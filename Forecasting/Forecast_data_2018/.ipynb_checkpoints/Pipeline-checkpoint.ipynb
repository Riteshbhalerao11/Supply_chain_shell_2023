{
 "cells": [
  {
   "cell_type": "code",
   "execution_count": 1,
   "id": "90794167",
   "metadata": {},
   "outputs": [],
   "source": [
    "import numpy as np\n",
    "import pandas as pd"
   ]
  },
  {
   "cell_type": "code",
   "execution_count": 10,
   "id": "7f9a3915",
   "metadata": {},
   "outputs": [],
   "source": [
    "df_list = []\n",
    "for i in range(8):\n",
    "    df_list.append((pd.read_csv(f\"Cluster_{i+1}.csv\"),pd.read_csv(f\"Forecast_{i+1}.csv\")))"
   ]
  },
  {
   "cell_type": "code",
   "execution_count": 14,
   "id": "af37949e",
   "metadata": {},
   "outputs": [],
   "source": [
    "res = []\n",
    "for cluster,forecast in df_list:\n",
    "    res.append(pd.concat([cluster,forecast],axis = 1))"
   ]
  },
  {
   "cell_type": "code",
   "execution_count": 18,
   "id": "398f0df7",
   "metadata": {},
   "outputs": [],
   "source": [
    "df_2018 = pd.concat([res[i] for i in range(8)], axis = 0)"
   ]
  },
  {
   "cell_type": "code",
   "execution_count": 19,
   "id": "7cafcef1",
   "metadata": {},
   "outputs": [],
   "source": [
    "df_2018 = df_2018.sort_values(by = \"Index\")"
   ]
  },
  {
   "cell_type": "code",
   "execution_count": 22,
   "id": "54caf2b8",
   "metadata": {},
   "outputs": [],
   "source": [
    "df_2018.drop(columns=[\"Vals\"], inplace=True)"
   ]
  },
  {
   "cell_type": "code",
   "execution_count": 26,
   "id": "643ed6b4",
   "metadata": {},
   "outputs": [],
   "source": [
    "df_2018.rename(columns = {\"Forecast\" : \"2018\"},inplace=True)"
   ]
  },
  {
   "cell_type": "code",
   "execution_count": 28,
   "id": "003872b5",
   "metadata": {},
   "outputs": [],
   "source": [
    "df_2018.to_csv(\"pred_2018.csv\",index=False)"
   ]
  },
  {
   "cell_type": "code",
   "execution_count": null,
   "id": "e36d84fe",
   "metadata": {},
   "outputs": [],
   "source": []
  }
 ],
 "metadata": {
  "kernelspec": {
   "display_name": "Python 3 (ipykernel)",
   "language": "python",
   "name": "python3"
  },
  "language_info": {
   "codemirror_mode": {
    "name": "ipython",
    "version": 3
   },
   "file_extension": ".py",
   "mimetype": "text/x-python",
   "name": "python",
   "nbconvert_exporter": "python",
   "pygments_lexer": "ipython3",
   "version": "3.9.13"
  }
 },
 "nbformat": 4,
 "nbformat_minor": 5
}
