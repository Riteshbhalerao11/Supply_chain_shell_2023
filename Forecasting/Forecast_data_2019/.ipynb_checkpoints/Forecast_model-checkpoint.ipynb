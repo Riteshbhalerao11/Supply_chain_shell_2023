{
 "cells": [
  {
   "cell_type": "code",
   "execution_count": 1,
   "id": "500610f3",
   "metadata": {},
   "outputs": [
    {
     "name": "stderr",
     "output_type": "stream",
     "text": [
      "c:\\users\\atharva\\appdata\\local\\programs\\python\\python39\\lib\\site-packages\\tqdm\\auto.py:21: TqdmWarning: IProgress not found. Please update jupyter and ipywidgets. See https://ipywidgets.readthedocs.io/en/stable/user_install.html\n",
      "  from .autonotebook import tqdm as notebook_tqdm\n"
     ]
    }
   ],
   "source": [
    "import numpy as np\n",
    "import pandas as pd\n",
    "import matplotlib.pyplot as plt\n",
    "%matplotlib inline\n",
    "from autogluon.timeseries import TimeSeriesDataFrame, TimeSeriesPredictor"
   ]
  },
  {
   "cell_type": "code",
   "execution_count": 2,
   "id": "5aaf5cf6",
   "metadata": {},
   "outputs": [],
   "source": [
    "# Import clusters\n",
    "\n",
    "data_list =[]\n",
    "\n",
    "for i in range(8):\n",
    "    df_temp = pd.read_csv(f\"Cluster_{i+1}.csv\")\n",
    "    data_list.append(df_temp)"
   ]
  },
  {
   "cell_type": "code",
   "execution_count": 3,
   "id": "426deba2",
   "metadata": {},
   "outputs": [],
   "source": [
    "def Convert_long(df_train):\n",
    "    df_long = pd.melt(df_train, id_vars=['Index', 'Latitude', 'Longitude'], var_name='Year', value_name='target')\n",
    "    df_long = df_long.drop(columns=[\"Latitude\", \"Longitude\"])\n",
    "    ind_list = list(df_long.iloc[:, 0].values)\n",
    "    ind_list = list(set(ind_list))\n",
    "    ind_list.sort()\n",
    "    df_long_sorted = pd.DataFrame()\n",
    "\n",
    "    for item in ind_list:\n",
    "        tempdf = df_long[df_long[\"Index\"] == item]\n",
    "        tempdf.sort_values(by='Year', inplace=True)\n",
    "        df_long_sorted = df_long_sorted.append(tempdf, ignore_index=True)\n",
    "    \n",
    "    df_long_sorted[\"Year\"] = pd.to_datetime(df_long_sorted[\"Year\"].astype(str), format=\"%Y\")\n",
    "\n",
    "    train_data = TimeSeriesDataFrame.from_data_frame(\n",
    "        df_long_sorted,\n",
    "        id_column=\"Index\",\n",
    "        timestamp_column=\"Year\")\n",
    "\n",
    "    return train_data"
   ]
  },
  {
   "cell_type": "code",
   "execution_count": 4,
   "id": "cd179fe2",
   "metadata": {},
   "outputs": [],
   "source": [
    "def Train_Model(data_list):\n",
    "    \n",
    "    for i in range(8):\n",
    "        X_train = data_list[i].iloc[:,:-1]\n",
    "        train_data = Convert_long(X_train)\n",
    "        \n",
    "        predictor = TimeSeriesPredictor(\n",
    "        prediction_length=1,\n",
    "        path=f\"forecast_{i+1}\",\n",
    "        target=\"target\",\n",
    "        eval_metric=\"MASE\")\n",
    "\n",
    "        predictor.fit(\n",
    "        train_data,\n",
    "        presets = \"best_quality\")\n",
    "        \n",
    "        predictions = predictor.predict(train_data)\n",
    "        predictor.save()\n",
    "        \n",
    "        est = (predictions.loc[:,\"mean\"].values).reshape(-1,1)\n",
    "        out = pd.DataFrame(est,columns=[\"Forecast\"])\n",
    "        out.to_csv(f\"Forecast_{i+1}.csv\",index = False)\n",
    "        \n",
    "        print(f\"========MODEL_{i+1} DONE============\")"
   ]
  },
  {
   "cell_type": "code",
   "execution_count": null,
   "id": "613a74f8",
   "metadata": {},
   "outputs": [
    {
     "name": "stderr",
     "output_type": "stream",
     "text": [
      "C:\\Users\\ATHARVA\\AppData\\Local\\Temp\\ipykernel_23832\\2024534557.py:11: SettingWithCopyWarning: \n",
      "A value is trying to be set on a copy of a slice from a DataFrame\n",
      "\n",
      "See the caveats in the documentation: https://pandas.pydata.org/pandas-docs/stable/user_guide/indexing.html#returning-a-view-versus-a-copy\n",
      "  tempdf.sort_values(by='Year', inplace=True)\n",
      "C:\\Users\\ATHARVA\\AppData\\Local\\Temp\\ipykernel_23832\\2024534557.py:12: FutureWarning: The frame.append method is deprecated and will be removed from pandas in a future version. Use pandas.concat instead.\n",
      "  df_long_sorted = df_long_sorted.append(tempdf, ignore_index=True)\n",
      "c:\\users\\atharva\\appdata\\local\\programs\\python\\python39\\lib\\site-packages\\autogluon\\timeseries\\predictor.py:224: UserWarning: Detected frequency 'AS' is not supported by TimeSeriesPredictor. This may lead to some models not working as intended. Please convert the timestamps to one of the supported frequencies: {'Y', 'M', 'min', 'S', 'H', 'D', 'Q', 'T', 'A', 'W'}. See https://pandas.pydata.org/pandas-docs/stable/user_guide/timeseries.html#offset-aliases for details.\n",
      "  warnings.warn(\n",
      "================ TimeSeriesPredictor ================\n",
      "TimeSeriesPredictor.fit() called\n",
      "Setting presets to: best_quality\n",
      "Fitting with arguments:\n",
      "{'enable_ensemble': True,\n",
      " 'evaluation_metric': 'MASE',\n",
      " 'excluded_model_types': None,\n",
      " 'hyperparameter_tune_kwargs': {'num_trials': 3,\n",
      "                                'scheduler': 'local',\n",
      "                                'searcher': 'auto'},\n",
      " 'hyperparameters': 'best_quality',\n",
      " 'num_val_windows': 1,\n",
      " 'prediction_length': 1,\n",
      " 'random_seed': None,\n",
      " 'target': 'target',\n",
      " 'time_limit': None,\n",
      " 'verbosity': 2}\n",
      "Provided training data set with 3654 rows, 406 items (item = single time series). Average time series length is 9.0. Data frequency is 'AS-JAN'.\n",
      "=====================================================\n",
      "AutoGluon will save models to forecast_1\\\n",
      "AutoGluon will gauge predictive performance using evaluation metric: 'MASE'\n",
      "\tThis metric's sign has been flipped to adhere to being 'higher is better'. The reported score can be multiplied by -1 to get the metric value.\n",
      "\n",
      "Provided dataset contains following columns:\n",
      "\ttarget:           'target'\n",
      "\n",
      "Starting training. Start time is 2023-08-16 17:12:09\n",
      "Models that will be trained: ['Naive', 'SeasonalNaive', 'Theta', 'AutoETS', 'RecursiveTabular', 'DeepAR', 'TemporalFusionTransformer', 'PatchTST', 'DirectTabular', 'AutoARIMA']\n",
      "Hyperparameter tuning model: Naive. \n",
      "\t-0.5405       = Validation score (-MASE)\n",
      "\t0.01    s     = Training runtime\n",
      "\t10.80   s     = Validation (prediction) runtime\n",
      "Hyperparameter tuning model: SeasonalNaive. \n",
      "\t-0.5405       = Validation score (-MASE)\n",
      "\t0.01    s     = Training runtime\n",
      "\t0.20    s     = Validation (prediction) runtime\n",
      "Hyperparameter tuning model: Theta. \n",
      "\t-0.2580       = Validation score (-MASE)\n",
      "\t0.01    s     = Training runtime\n",
      "\t57.31   s     = Validation (prediction) runtime\n",
      "Hyperparameter tuning model: AutoETS. \n",
      "\t-0.4547       = Validation score (-MASE)\n",
      "\t0.01    s     = Training runtime\n",
      "\t24.64   s     = Validation (prediction) runtime\n",
      "Hyperparameter tuning model: RecursiveTabular. \n",
      "\t-0.8335       = Validation score (-MASE)\n",
      "\t9.77    s     = Training runtime\n",
      "\t1.15    s     = Validation (prediction) runtime\n",
      "Hyperparameter tuning model: DeepAR. \n"
     ]
    }
   ],
   "source": [
    "Train_Model(data_list)"
   ]
  },
  {
   "cell_type": "code",
   "execution_count": null,
   "id": "08753d8b",
   "metadata": {},
   "outputs": [],
   "source": []
  }
 ],
 "metadata": {
  "kernelspec": {
   "display_name": "Python 3 (ipykernel)",
   "language": "python",
   "name": "python3"
  },
  "language_info": {
   "codemirror_mode": {
    "name": "ipython",
    "version": 3
   },
   "file_extension": ".py",
   "mimetype": "text/x-python",
   "name": "python",
   "nbconvert_exporter": "python",
   "pygments_lexer": "ipython3",
   "version": "3.9.13"
  }
 },
 "nbformat": 4,
 "nbformat_minor": 5
}
