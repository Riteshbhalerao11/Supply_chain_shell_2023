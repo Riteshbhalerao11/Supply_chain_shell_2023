{
 "cells": [
  {
   "cell_type": "code",
   "execution_count": 18,
   "id": "90794167",
   "metadata": {},
   "outputs": [],
   "source": [
    "import numpy as np\n",
    "import pandas as pd"
   ]
  },
  {
   "cell_type": "code",
   "execution_count": 19,
   "id": "7f9a3915",
   "metadata": {},
   "outputs": [],
   "source": [
    "df_list = []\n",
    "for i in range(8):\n",
    "    df_list.append((pd.read_csv(f\"Cluster_{i+1}.csv\"),pd.read_csv(f\"Forecast_{i+1}.csv\")))"
   ]
  },
  {
   "cell_type": "code",
   "execution_count": 20,
   "id": "af37949e",
   "metadata": {},
   "outputs": [],
   "source": [
    "res = []\n",
    "for cluster,forecast in df_list:\n",
    "    res.append(pd.concat([cluster,forecast],axis = 1))"
   ]
  },
  {
   "cell_type": "code",
   "execution_count": 21,
   "id": "398f0df7",
   "metadata": {},
   "outputs": [],
   "source": [
    "df_2019 = pd.concat([res[i] for i in range(8)], axis = 0)"
   ]
  },
  {
   "cell_type": "code",
   "execution_count": 22,
   "id": "7cafcef1",
   "metadata": {},
   "outputs": [],
   "source": [
    "df_2019 = df_2019.sort_values(by = \"Index\")"
   ]
  },
  {
   "cell_type": "code",
   "execution_count": 23,
   "id": "54caf2b8",
   "metadata": {},
   "outputs": [],
   "source": [
    "df_2019.drop(columns=[\"Vals\"], inplace=True)"
   ]
  },
  {
   "cell_type": "code",
   "execution_count": 24,
   "id": "643ed6b4",
   "metadata": {},
   "outputs": [],
   "source": [
    "df_2019.rename(columns = {\"Forecast\" : \"2019\"},inplace=True)"
   ]
  },
  {
   "cell_type": "code",
   "execution_count": 25,
   "id": "003872b5",
   "metadata": {},
   "outputs": [],
   "source": [
    "df_2019.to_csv(\"pred_2019.csv\",index=False)"
   ]
  },
  {
   "cell_type": "code",
   "execution_count": 26,
   "id": "e36d84fe",
   "metadata": {},
   "outputs": [
    {
     "data": {
      "text/html": [
       "<div>\n",
       "<style scoped>\n",
       "    .dataframe tbody tr th:only-of-type {\n",
       "        vertical-align: middle;\n",
       "    }\n",
       "\n",
       "    .dataframe tbody tr th {\n",
       "        vertical-align: top;\n",
       "    }\n",
       "\n",
       "    .dataframe thead th {\n",
       "        text-align: right;\n",
       "    }\n",
       "</style>\n",
       "<table border=\"1\" class=\"dataframe\">\n",
       "  <thead>\n",
       "    <tr style=\"text-align: right;\">\n",
       "      <th></th>\n",
       "      <th>Index</th>\n",
       "      <th>Latitude</th>\n",
       "      <th>Longitude</th>\n",
       "      <th>2010</th>\n",
       "      <th>2011</th>\n",
       "      <th>2012</th>\n",
       "      <th>2013</th>\n",
       "      <th>2014</th>\n",
       "      <th>2015</th>\n",
       "      <th>2016</th>\n",
       "      <th>2017</th>\n",
       "      <th>2018</th>\n",
       "      <th>2019</th>\n",
       "    </tr>\n",
       "  </thead>\n",
       "  <tbody>\n",
       "    <tr>\n",
       "      <th>count</th>\n",
       "      <td>2418.000000</td>\n",
       "      <td>2418.000000</td>\n",
       "      <td>2418.000000</td>\n",
       "      <td>2418.000000</td>\n",
       "      <td>2418.000000</td>\n",
       "      <td>2418.000000</td>\n",
       "      <td>2418.000000</td>\n",
       "      <td>2418.000000</td>\n",
       "      <td>2418.000000</td>\n",
       "      <td>2418.000000</td>\n",
       "      <td>2418.000000</td>\n",
       "      <td>2418.000000</td>\n",
       "      <td>2418.000000</td>\n",
       "    </tr>\n",
       "    <tr>\n",
       "      <th>mean</th>\n",
       "      <td>1208.500000</td>\n",
       "      <td>22.506537</td>\n",
       "      <td>71.826215</td>\n",
       "      <td>144.401424</td>\n",
       "      <td>150.860247</td>\n",
       "      <td>109.468899</td>\n",
       "      <td>161.886430</td>\n",
       "      <td>157.954024</td>\n",
       "      <td>132.898633</td>\n",
       "      <td>113.089323</td>\n",
       "      <td>159.163367</td>\n",
       "      <td>147.225205</td>\n",
       "      <td>145.143866</td>\n",
       "    </tr>\n",
       "    <tr>\n",
       "      <th>std</th>\n",
       "      <td>698.160798</td>\n",
       "      <td>1.034936</td>\n",
       "      <td>1.389804</td>\n",
       "      <td>146.506351</td>\n",
       "      <td>142.264612</td>\n",
       "      <td>110.249714</td>\n",
       "      <td>180.337708</td>\n",
       "      <td>139.870466</td>\n",
       "      <td>129.689111</td>\n",
       "      <td>102.092570</td>\n",
       "      <td>158.993069</td>\n",
       "      <td>133.569981</td>\n",
       "      <td>131.257199</td>\n",
       "    </tr>\n",
       "    <tr>\n",
       "      <th>min</th>\n",
       "      <td>0.000000</td>\n",
       "      <td>20.154560</td>\n",
       "      <td>68.624190</td>\n",
       "      <td>0.000167</td>\n",
       "      <td>0.000433</td>\n",
       "      <td>0.000290</td>\n",
       "      <td>0.000532</td>\n",
       "      <td>0.000155</td>\n",
       "      <td>0.000072</td>\n",
       "      <td>0.000151</td>\n",
       "      <td>0.000191</td>\n",
       "      <td>0.000611</td>\n",
       "      <td>0.000680</td>\n",
       "    </tr>\n",
       "    <tr>\n",
       "      <th>25%</th>\n",
       "      <td>604.250000</td>\n",
       "      <td>21.685970</td>\n",
       "      <td>70.774060</td>\n",
       "      <td>23.449163</td>\n",
       "      <td>25.576084</td>\n",
       "      <td>22.711070</td>\n",
       "      <td>27.044554</td>\n",
       "      <td>31.514698</td>\n",
       "      <td>22.732275</td>\n",
       "      <td>22.658495</td>\n",
       "      <td>26.064368</td>\n",
       "      <td>27.046663</td>\n",
       "      <td>27.139275</td>\n",
       "    </tr>\n",
       "    <tr>\n",
       "      <th>50%</th>\n",
       "      <td>1208.500000</td>\n",
       "      <td>22.491970</td>\n",
       "      <td>71.888820</td>\n",
       "      <td>112.298855</td>\n",
       "      <td>126.291077</td>\n",
       "      <td>82.271317</td>\n",
       "      <td>117.662296</td>\n",
       "      <td>136.859337</td>\n",
       "      <td>106.789989</td>\n",
       "      <td>91.721931</td>\n",
       "      <td>120.519817</td>\n",
       "      <td>125.245762</td>\n",
       "      <td>124.519330</td>\n",
       "    </tr>\n",
       "    <tr>\n",
       "      <th>75%</th>\n",
       "      <td>1812.750000</td>\n",
       "      <td>23.297970</td>\n",
       "      <td>73.003570</td>\n",
       "      <td>207.689327</td>\n",
       "      <td>226.197079</td>\n",
       "      <td>163.512547</td>\n",
       "      <td>222.835739</td>\n",
       "      <td>241.965115</td>\n",
       "      <td>196.102222</td>\n",
       "      <td>177.136295</td>\n",
       "      <td>231.067348</td>\n",
       "      <td>222.333919</td>\n",
       "      <td>219.472729</td>\n",
       "    </tr>\n",
       "    <tr>\n",
       "      <th>max</th>\n",
       "      <td>2417.000000</td>\n",
       "      <td>24.668180</td>\n",
       "      <td>74.436820</td>\n",
       "      <td>883.691711</td>\n",
       "      <td>771.061646</td>\n",
       "      <td>871.800415</td>\n",
       "      <td>1232.853760</td>\n",
       "      <td>871.800415</td>\n",
       "      <td>771.061646</td>\n",
       "      <td>514.148987</td>\n",
       "      <td>883.691711</td>\n",
       "      <td>808.984022</td>\n",
       "      <td>798.466997</td>\n",
       "    </tr>\n",
       "  </tbody>\n",
       "</table>\n",
       "</div>"
      ],
      "text/plain": [
       "             Index     Latitude    Longitude         2010         2011  \\\n",
       "count  2418.000000  2418.000000  2418.000000  2418.000000  2418.000000   \n",
       "mean   1208.500000    22.506537    71.826215   144.401424   150.860247   \n",
       "std     698.160798     1.034936     1.389804   146.506351   142.264612   \n",
       "min       0.000000    20.154560    68.624190     0.000167     0.000433   \n",
       "25%     604.250000    21.685970    70.774060    23.449163    25.576084   \n",
       "50%    1208.500000    22.491970    71.888820   112.298855   126.291077   \n",
       "75%    1812.750000    23.297970    73.003570   207.689327   226.197079   \n",
       "max    2417.000000    24.668180    74.436820   883.691711   771.061646   \n",
       "\n",
       "              2012         2013         2014         2015         2016  \\\n",
       "count  2418.000000  2418.000000  2418.000000  2418.000000  2418.000000   \n",
       "mean    109.468899   161.886430   157.954024   132.898633   113.089323   \n",
       "std     110.249714   180.337708   139.870466   129.689111   102.092570   \n",
       "min       0.000290     0.000532     0.000155     0.000072     0.000151   \n",
       "25%      22.711070    27.044554    31.514698    22.732275    22.658495   \n",
       "50%      82.271317   117.662296   136.859337   106.789989    91.721931   \n",
       "75%     163.512547   222.835739   241.965115   196.102222   177.136295   \n",
       "max     871.800415  1232.853760   871.800415   771.061646   514.148987   \n",
       "\n",
       "              2017         2018         2019  \n",
       "count  2418.000000  2418.000000  2418.000000  \n",
       "mean    159.163367   147.225205   145.143866  \n",
       "std     158.993069   133.569981   131.257199  \n",
       "min       0.000191     0.000611     0.000680  \n",
       "25%      26.064368    27.046663    27.139275  \n",
       "50%     120.519817   125.245762   124.519330  \n",
       "75%     231.067348   222.333919   219.472729  \n",
       "max     883.691711   808.984022   798.466997  "
      ]
     },
     "execution_count": 26,
     "metadata": {},
     "output_type": "execute_result"
    }
   ],
   "source": [
    "df_2019.describe()"
   ]
  },
  {
   "cell_type": "code",
   "execution_count": 30,
   "id": "bfe5176b",
   "metadata": {},
   "outputs": [],
   "source": [
    "f19 = df_2019[\"2019\"].values"
   ]
  },
  {
   "cell_type": "code",
   "execution_count": 31,
   "id": "770b142b",
   "metadata": {},
   "outputs": [],
   "source": [
    "f18 = df_2019[\"2018\"].values"
   ]
  },
  {
   "cell_type": "code",
   "execution_count": 32,
   "id": "abbc5400",
   "metadata": {},
   "outputs": [
    {
     "data": {
      "text/plain": [
       "(2418,)"
      ]
     },
     "execution_count": 32,
     "metadata": {},
     "output_type": "execute_result"
    }
   ],
   "source": [
    "f18.shape"
   ]
  },
  {
   "cell_type": "code",
   "execution_count": 33,
   "id": "2fe44556",
   "metadata": {},
   "outputs": [],
   "source": [
    "fmin = []\n",
    "for i in range(f18.shape[0]):\n",
    "    fmin.append(min(f18[i],f19[i]))"
   ]
  },
  {
   "cell_type": "code",
   "execution_count": 37,
   "id": "cb61a4d9",
   "metadata": {},
   "outputs": [
    {
     "ename": "InvalidIndexError",
     "evalue": "Reindexing only valid with uniquely valued Index objects",
     "output_type": "error",
     "traceback": [
      "\u001b[1;31m---------------------------------------------------------------------------\u001b[0m",
      "\u001b[1;31mInvalidIndexError\u001b[0m                         Traceback (most recent call last)",
      "Input \u001b[1;32mIn [37]\u001b[0m, in \u001b[0;36m<cell line: 1>\u001b[1;34m()\u001b[0m\n\u001b[1;32m----> 1\u001b[0m \u001b[43mpd\u001b[49m\u001b[38;5;241;43m.\u001b[39;49m\u001b[43mconcat\u001b[49m\u001b[43m(\u001b[49m\u001b[43m[\u001b[49m\u001b[43mdf_2019\u001b[49m\u001b[43m,\u001b[49m\u001b[43mpd\u001b[49m\u001b[38;5;241;43m.\u001b[39;49m\u001b[43mDataFrame\u001b[49m\u001b[43m(\u001b[49m\u001b[43mnp\u001b[49m\u001b[38;5;241;43m.\u001b[39;49m\u001b[43marray\u001b[49m\u001b[43m(\u001b[49m\u001b[43mfmin\u001b[49m\u001b[43m)\u001b[49m\u001b[43m,\u001b[49m\u001b[43m \u001b[49m\u001b[43mcolumns\u001b[49m\u001b[43m \u001b[49m\u001b[38;5;241;43m=\u001b[39;49m\u001b[43m \u001b[49m\u001b[43m[\u001b[49m\u001b[38;5;124;43m\"\u001b[39;49m\u001b[38;5;124;43mMin1819\u001b[39;49m\u001b[38;5;124;43m\"\u001b[39;49m\u001b[43m]\u001b[49m\u001b[43m)\u001b[49m\u001b[43m]\u001b[49m\u001b[43m,\u001b[49m\u001b[43maxis\u001b[49m\u001b[43m \u001b[49m\u001b[38;5;241;43m=\u001b[39;49m\u001b[43m \u001b[49m\u001b[38;5;241;43m1\u001b[39;49m\u001b[43m)\u001b[49m\n",
      "File \u001b[1;32m~\\anaconda3\\envs\\Machinelearning\\lib\\site-packages\\pandas\\util\\_decorators.py:331\u001b[0m, in \u001b[0;36mdeprecate_nonkeyword_arguments.<locals>.decorate.<locals>.wrapper\u001b[1;34m(*args, **kwargs)\u001b[0m\n\u001b[0;32m    325\u001b[0m \u001b[38;5;28;01mif\u001b[39;00m \u001b[38;5;28mlen\u001b[39m(args) \u001b[38;5;241m>\u001b[39m num_allow_args:\n\u001b[0;32m    326\u001b[0m     warnings\u001b[38;5;241m.\u001b[39mwarn(\n\u001b[0;32m    327\u001b[0m         msg\u001b[38;5;241m.\u001b[39mformat(arguments\u001b[38;5;241m=\u001b[39m_format_argument_list(allow_args)),\n\u001b[0;32m    328\u001b[0m         \u001b[38;5;167;01mFutureWarning\u001b[39;00m,\n\u001b[0;32m    329\u001b[0m         stacklevel\u001b[38;5;241m=\u001b[39mfind_stack_level(),\n\u001b[0;32m    330\u001b[0m     )\n\u001b[1;32m--> 331\u001b[0m \u001b[38;5;28;01mreturn\u001b[39;00m func(\u001b[38;5;241m*\u001b[39margs, \u001b[38;5;241m*\u001b[39m\u001b[38;5;241m*\u001b[39mkwargs)\n",
      "File \u001b[1;32m~\\anaconda3\\envs\\Machinelearning\\lib\\site-packages\\pandas\\core\\reshape\\concat.py:381\u001b[0m, in \u001b[0;36mconcat\u001b[1;34m(objs, axis, join, ignore_index, keys, levels, names, verify_integrity, sort, copy)\u001b[0m\n\u001b[0;32m    159\u001b[0m \u001b[38;5;250m\u001b[39m\u001b[38;5;124;03m\"\"\"\u001b[39;00m\n\u001b[0;32m    160\u001b[0m \u001b[38;5;124;03mConcatenate pandas objects along a particular axis.\u001b[39;00m\n\u001b[0;32m    161\u001b[0m \n\u001b[1;32m   (...)\u001b[0m\n\u001b[0;32m    366\u001b[0m \u001b[38;5;124;03m1   3   4\u001b[39;00m\n\u001b[0;32m    367\u001b[0m \u001b[38;5;124;03m\"\"\"\u001b[39;00m\n\u001b[0;32m    368\u001b[0m op \u001b[38;5;241m=\u001b[39m _Concatenator(\n\u001b[0;32m    369\u001b[0m     objs,\n\u001b[0;32m    370\u001b[0m     axis\u001b[38;5;241m=\u001b[39maxis,\n\u001b[1;32m   (...)\u001b[0m\n\u001b[0;32m    378\u001b[0m     sort\u001b[38;5;241m=\u001b[39msort,\n\u001b[0;32m    379\u001b[0m )\n\u001b[1;32m--> 381\u001b[0m \u001b[38;5;28;01mreturn\u001b[39;00m \u001b[43mop\u001b[49m\u001b[38;5;241;43m.\u001b[39;49m\u001b[43mget_result\u001b[49m\u001b[43m(\u001b[49m\u001b[43m)\u001b[49m\n",
      "File \u001b[1;32m~\\anaconda3\\envs\\Machinelearning\\lib\\site-packages\\pandas\\core\\reshape\\concat.py:612\u001b[0m, in \u001b[0;36m_Concatenator.get_result\u001b[1;34m(self)\u001b[0m\n\u001b[0;32m    610\u001b[0m         obj_labels \u001b[38;5;241m=\u001b[39m obj\u001b[38;5;241m.\u001b[39maxes[\u001b[38;5;241m1\u001b[39m \u001b[38;5;241m-\u001b[39m ax]\n\u001b[0;32m    611\u001b[0m         \u001b[38;5;28;01mif\u001b[39;00m \u001b[38;5;129;01mnot\u001b[39;00m new_labels\u001b[38;5;241m.\u001b[39mequals(obj_labels):\n\u001b[1;32m--> 612\u001b[0m             indexers[ax] \u001b[38;5;241m=\u001b[39m \u001b[43mobj_labels\u001b[49m\u001b[38;5;241;43m.\u001b[39;49m\u001b[43mget_indexer\u001b[49m\u001b[43m(\u001b[49m\u001b[43mnew_labels\u001b[49m\u001b[43m)\u001b[49m\n\u001b[0;32m    614\u001b[0m     mgrs_indexers\u001b[38;5;241m.\u001b[39mappend((obj\u001b[38;5;241m.\u001b[39m_mgr, indexers))\n\u001b[0;32m    616\u001b[0m new_data \u001b[38;5;241m=\u001b[39m concatenate_managers(\n\u001b[0;32m    617\u001b[0m     mgrs_indexers, \u001b[38;5;28mself\u001b[39m\u001b[38;5;241m.\u001b[39mnew_axes, concat_axis\u001b[38;5;241m=\u001b[39m\u001b[38;5;28mself\u001b[39m\u001b[38;5;241m.\u001b[39mbm_axis, copy\u001b[38;5;241m=\u001b[39m\u001b[38;5;28mself\u001b[39m\u001b[38;5;241m.\u001b[39mcopy\n\u001b[0;32m    618\u001b[0m )\n",
      "File \u001b[1;32m~\\anaconda3\\envs\\Machinelearning\\lib\\site-packages\\pandas\\core\\indexes\\base.py:3904\u001b[0m, in \u001b[0;36mIndex.get_indexer\u001b[1;34m(self, target, method, limit, tolerance)\u001b[0m\n\u001b[0;32m   3901\u001b[0m \u001b[38;5;28mself\u001b[39m\u001b[38;5;241m.\u001b[39m_check_indexing_method(method, limit, tolerance)\n\u001b[0;32m   3903\u001b[0m \u001b[38;5;28;01mif\u001b[39;00m \u001b[38;5;129;01mnot\u001b[39;00m \u001b[38;5;28mself\u001b[39m\u001b[38;5;241m.\u001b[39m_index_as_unique:\n\u001b[1;32m-> 3904\u001b[0m     \u001b[38;5;28;01mraise\u001b[39;00m InvalidIndexError(\u001b[38;5;28mself\u001b[39m\u001b[38;5;241m.\u001b[39m_requires_unique_msg)\n\u001b[0;32m   3906\u001b[0m \u001b[38;5;28;01mif\u001b[39;00m \u001b[38;5;28mlen\u001b[39m(target) \u001b[38;5;241m==\u001b[39m \u001b[38;5;241m0\u001b[39m:\n\u001b[0;32m   3907\u001b[0m     \u001b[38;5;28;01mreturn\u001b[39;00m np\u001b[38;5;241m.\u001b[39marray([], dtype\u001b[38;5;241m=\u001b[39mnp\u001b[38;5;241m.\u001b[39mintp)\n",
      "\u001b[1;31mInvalidIndexError\u001b[0m: Reindexing only valid with uniquely valued Index objects"
     ]
    }
   ],
   "source": [
    "pd.concat([df_2019,pd.DataFrame(np.array(fmin), columns = [\"Min1819\"])],axis = 1)"
   ]
  },
  {
   "cell_type": "code",
   "execution_count": 39,
   "id": "482f1cdb",
   "metadata": {},
   "outputs": [],
   "source": [
    "df_2019[\"Min1819\"] = fmin"
   ]
  },
  {
   "cell_type": "code",
   "execution_count": 42,
   "id": "3c904c43",
   "metadata": {},
   "outputs": [],
   "source": [
    "df_2019.to_csv(\"pred_2019.csv\",index = False)"
   ]
  },
  {
   "cell_type": "code",
   "execution_count": null,
   "id": "87665f9b",
   "metadata": {},
   "outputs": [],
   "source": []
  }
 ],
 "metadata": {
  "kernelspec": {
   "display_name": "Python 3 (ipykernel)",
   "language": "python",
   "name": "python3"
  },
  "language_info": {
   "codemirror_mode": {
    "name": "ipython",
    "version": 3
   },
   "file_extension": ".py",
   "mimetype": "text/x-python",
   "name": "python",
   "nbconvert_exporter": "python",
   "pygments_lexer": "ipython3",
   "version": "3.9.13"
  }
 },
 "nbformat": 4,
 "nbformat_minor": 5
}
