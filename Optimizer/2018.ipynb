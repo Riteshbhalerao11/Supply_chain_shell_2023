{
 "cells": [
  {
   "cell_type": "code",
   "execution_count": 3,
   "id": "6993e4be",
   "metadata": {},
   "outputs": [],
   "source": [
    "from gurobipy import *\n",
    "import numpy as np\n",
    "import pandas as pd"
   ]
  },
  {
   "cell_type": "markdown",
   "id": "16de70b8",
   "metadata": {},
   "source": [
    "# Structure\n"
   ]
  },
  {
   "cell_type": "code",
   "execution_count": 8,
   "id": "797856eb",
   "metadata": {},
   "outputs": [],
   "source": [
    "Biomass  = pd.read_csv(\"pred_2019.csv\")[\"2018\"].values"
   ]
  },
  {
   "cell_type": "code",
   "execution_count": 9,
   "id": "e5dde218",
   "metadata": {},
   "outputs": [
    {
     "data": {
      "text/plain": [
       "355990.5464952136"
      ]
     },
     "execution_count": 9,
     "metadata": {},
     "output_type": "execute_result"
    }
   ],
   "source": [
    "Biomass.sum()"
   ]
  },
  {
   "cell_type": "code",
   "execution_count": 4,
   "id": "86150d69",
   "metadata": {},
   "outputs": [],
   "source": [
    "DistanceB = pd.read_csv(\"Distance_Matrix.csv\").drop(columns = [\"INDEX\"])\n",
    "DistanceP = DistanceB.copy()"
   ]
  },
  {
   "cell_type": "code",
   "execution_count": 5,
   "id": "471bec65",
   "metadata": {},
   "outputs": [],
   "source": [
    "Di,Dj = DistanceB.shape "
   ]
  },
  {
   "cell_type": "code",
   "execution_count": 6,
   "id": "dfdc5ddb",
   "metadata": {},
   "outputs": [],
   "source": [
    "M = 10**9\n",
    "for i in range(Di):\n",
    "    for j in range(Dj):\n",
    "        if(i == j):\n",
    "            DistanceB[i][j] = M\n",
    "            DistanceP[i][j] = 0"
   ]
  },
  {
   "cell_type": "code",
   "execution_count": 12,
   "id": "6882085f",
   "metadata": {},
   "outputs": [
    {
     "data": {
      "text/plain": [
       "3.0"
      ]
     },
     "execution_count": 12,
     "metadata": {},
     "output_type": "execute_result"
    }
   ],
   "source": [
    "Y = pd.read_csv(\"Depots.csv\").values\n",
    "Z = pd.read_csv(\"Refineries.csv\").values"
   ]
  },
  {
   "cell_type": "code",
   "execution_count": null,
   "id": "c7f75fb8",
   "metadata": {},
   "outputs": [],
   "source": []
  },
  {
   "cell_type": "markdown",
   "id": "a3f3d9e2",
   "metadata": {},
   "source": [
    "# Variables\n"
   ]
  },
  {
   "cell_type": "code",
   "execution_count": 13,
   "id": "02929935",
   "metadata": {},
   "outputs": [],
   "source": [
    "m = Model()"
   ]
  },
  {
   "cell_type": "code",
   "execution_count": 14,
   "id": "a4ca5390",
   "metadata": {},
   "outputs": [],
   "source": [
    "B = m.addMVar((Di,Dj), vtype= GRB.CONTINUOUS , lb = 0 , name = \"B\" )"
   ]
  },
  {
   "cell_type": "code",
   "execution_count": 15,
   "id": "6e307a0a",
   "metadata": {},
   "outputs": [],
   "source": [
    "P = m.addMVar((Di,Dj), vtype= GRB.CONTINUOUS , lb = 0 , name= \"P\")"
   ]
  },
  {
   "cell_type": "code",
   "execution_count": 16,
   "id": "5ecc8840",
   "metadata": {},
   "outputs": [],
   "source": [
    "X = m.addMVar((Di), vtype= GRB.BINARY, name = \"X\")"
   ]
  },
  {
   "cell_type": "code",
   "execution_count": 17,
   "id": "cf9d2f58",
   "metadata": {},
   "outputs": [],
   "source": [
    "Xm = m.addMVar((Di) , vtype= GRB.CONTINUOUS, name = \"Xm\")\n",
    "Ym = m.addMVar((Di) , vtype= GRB.CONTINUOUS, name = \"Ym\")\n",
    "Zm = m.addMVar((Di) , vtype= GRB.CONTINUOUS, name = \"Zm\")"
   ]
  },
  {
   "cell_type": "code",
   "execution_count": null,
   "id": "6dde2246",
   "metadata": {},
   "outputs": [],
   "source": [
    "babs = m.addVar(vtype= GRB.CONTINUOUS , name = \"babs\" , lb = 0)"
   ]
  },
  {
   "cell_type": "markdown",
   "id": "adaa606f",
   "metadata": {},
   "source": [
    "# Objective"
   ]
  },
  {
   "cell_type": "code",
   "execution_count": 20,
   "id": "e94a4ef0",
   "metadata": {},
   "outputs": [],
   "source": [
    "import gurobipy as gp"
   ]
  },
  {
   "cell_type": "code",
   "execution_count": 21,
   "id": "b61a5e61",
   "metadata": {},
   "outputs": [],
   "source": [
    "exp1 = (DistanceB*B).sum()"
   ]
  },
  {
   "cell_type": "code",
   "execution_count": 22,
   "id": "ade7fbd7",
   "metadata": {},
   "outputs": [],
   "source": [
    "exp1 += (DistanceP*P).sum()"
   ]
  },
  {
   "cell_type": "code",
   "execution_count": 23,
   "id": "a3278418",
   "metadata": {},
   "outputs": [],
   "source": [
    "exp2 = (20000*Y - B.sum(axis=0)).sum()"
   ]
  },
  {
   "cell_type": "code",
   "execution_count": 24,
   "id": "c9ba6fc5",
   "metadata": {},
   "outputs": [],
   "source": [
    "exp3 = (100000*Z - P.sum(axis=0)).sum()"
   ]
  },
  {
   "cell_type": "code",
   "execution_count": 25,
   "id": "7d45eb60",
   "metadata": {},
   "outputs": [],
   "source": [
    "m.setObjective(exp1 + exp2 + exp3 , GRB.MINIMIZE)"
   ]
  },
  {
   "cell_type": "code",
   "execution_count": 26,
   "id": "96a47bd9",
   "metadata": {},
   "outputs": [],
   "source": [
    "m.update()"
   ]
  },
  {
   "cell_type": "markdown",
   "id": "3a87ed9a",
   "metadata": {},
   "source": [
    "# Constraints"
   ]
  },
  {
   "cell_type": "code",
   "execution_count": 27,
   "id": "a6d6f4cf",
   "metadata": {},
   "outputs": [],
   "source": [
    "x_mask = []\n",
    "for i in range(Di):\n",
    "    x_mask = B[i].tolist()\n",
    "    m.addConstr(Xm[i] == max_(x_mask,constant = 0), name=f\"C1m{i}\")\n",
    "    m.addConstr(X[i] == min_(Xm[i],constant = 1), name=f\"C1{i}\")"
   ]
  },
  {
   "cell_type": "code",
   "execution_count": 28,
   "id": "ddc9ca0a",
   "metadata": {},
   "outputs": [],
   "source": [
    "for i in range(Di):\n",
    "    for j in range(Dj):\n",
    "        m.addConstr(B[i][j] == Y[j] * B[i][j], name = f\"C2_{i}_{j}\")"
   ]
  },
  {
   "cell_type": "code",
   "execution_count": 29,
   "id": "04d16e4a",
   "metadata": {},
   "outputs": [],
   "source": [
    "for i in range(Di):\n",
    "    for j in range(Dj):\n",
    "        m.addConstr(P[i][j] == Z[j] * P[i][j], name = f\"C3_{i}_{j}\")"
   ]
  },
  {
   "cell_type": "code",
   "execution_count": 30,
   "id": "e305597e",
   "metadata": {},
   "outputs": [],
   "source": [
    "for i in range(Di):\n",
    "    m.addConstr(B.sum(axis=1)[i] - Biomass[i] <= 0 , name=f\"C_4_{i}\")"
   ]
  },
  {
   "cell_type": "code",
   "execution_count": 31,
   "id": "43db5272",
   "metadata": {},
   "outputs": [],
   "source": [
    "for j in range(Dj):\n",
    "    m.addConstr(B.sum(axis=0)[j] - 20000 <= 0 , name = f\"C_5_{j}\")"
   ]
  },
  {
   "cell_type": "code",
   "execution_count": 32,
   "id": "483df418",
   "metadata": {},
   "outputs": [],
   "source": [
    "for j in range(Dj):\n",
    "    m.addConstr(P.sum(axis=0)[j] - 100000 <= 0 , name = f\"C_6_{j}\")"
   ]
  },
  {
   "cell_type": "code",
   "execution_count": 37,
   "id": "04bab1c4",
   "metadata": {},
   "outputs": [],
   "source": [
    "con9 = (P.sum() >= (0.8*(Biomass.sum()+1)))"
   ]
  },
  {
   "cell_type": "code",
   "execution_count": 38,
   "id": "2eec5756",
   "metadata": {},
   "outputs": [
    {
     "data": {
      "text/plain": [
       "<MConstr () *awaiting model update*>"
      ]
     },
     "execution_count": 38,
     "metadata": {},
     "output_type": "execute_result"
    }
   ],
   "source": [
    "m.addConstr(con9 , name = \"C_9\")"
   ]
  },
  {
   "cell_type": "code",
   "execution_count": 40,
   "id": "07f3ef91",
   "metadata": {},
   "outputs": [],
   "source": [
    "for i in range(Di):\n",
    "    m.addConstr(X[i] + Y[i] <= 1, name = f\"C_11_{i}\" )"
   ]
  },
  {
   "cell_type": "code",
   "execution_count": 41,
   "id": "62a20a23",
   "metadata": {},
   "outputs": [],
   "source": [
    "for i in range(Di):\n",
    "    m.addConstr(X[i] + Z[i] <= 1, name = f'C_12_{i}')"
   ]
  },
  {
   "cell_type": "code",
   "execution_count": null,
   "id": "3bddf9c7",
   "metadata": {},
   "outputs": [],
   "source": [
    "m.addConstr(babs == (B.sum() - P.sum()) , name = \"C_10_1\")"
   ]
  },
  {
   "cell_type": "code",
   "execution_count": null,
   "id": "f9a48a61",
   "metadata": {},
   "outputs": [],
   "source": [
    "m.addConstr(babs <= 0.001, name = \"C_10_2\")"
   ]
  },
  {
   "cell_type": "code",
   "execution_count": 43,
   "id": "0831b83b",
   "metadata": {},
   "outputs": [],
   "source": [
    "m.update()"
   ]
  },
  {
   "cell_type": "code",
   "execution_count": 44,
   "id": "3fa7d11f",
   "metadata": {},
   "outputs": [],
   "source": [
    "m.write(\"2018.lp\")"
   ]
  },
  {
   "cell_type": "code",
   "execution_count": 45,
   "id": "085351e8",
   "metadata": {},
   "outputs": [
    {
     "name": "stdout",
     "output_type": "stream",
     "text": [
      "Gurobi Optimizer version 10.0.2 build v10.0.2rc0 (win64)\n",
      "\n",
      "CPU model: 12th Gen Intel(R) Core(TM) i5-12450H, instruction set [SSE2|AVX|AVX2]\n",
      "Thread count: 8 physical cores, 12 logical processors, using up to 12 threads\n",
      "\n",
      "Optimize a model with 20503 rows, 20402 columns and 88002 nonzeros\n",
      "Model fingerprint: 0x266b732b\n",
      "Model has 200 general constraints\n",
      "Variable types: 20302 continuous, 100 integer (100 binary)\n",
      "Coefficient statistics:\n",
      "  Matrix range     [1e+00, 1e+00]\n",
      "  Objective range  [1e+00, 1e+09]\n",
      "  Bounds range     [3e-03, 1e+00]\n",
      "  RHS range        [1e+00, 4e+04]\n",
      "  GenCon const rng [1e+00, 1e+00]\n",
      "Presolve removed 17081 rows and 15540 columns\n",
      "Presolve time: 0.19s\n",
      "Presolved: 3422 rows, 4862 columns, 14339 nonzeros\n",
      "Variable types: 3242 continuous, 1620 integer (1620 binary)\n",
      "Found heuristic solution: objective 1.008845e+07\n",
      "Found heuristic solution: objective 1.004170e+07\n",
      "\n",
      "Root relaxation: objective 4.108390e+06, 1454 iterations, 0.01 seconds (0.01 work units)\n",
      "\n",
      "    Nodes    |    Current Node    |     Objective Bounds      |     Work\n",
      " Expl Unexpl |  Obj  Depth IntInf | Incumbent    BestBd   Gap | It/Node Time\n",
      "\n",
      "     0     0 4108389.95    0   12 1.0042e+07 4108389.95  59.1%     -    0s\n",
      "H    0     0                    4109726.9500 4108389.95  0.03%     -    0s\n",
      "H    0     0                    4109710.9500 4108389.95  0.03%     -    0s\n",
      "H    0     0                    4108742.9500 4108389.95  0.01%     -    0s\n",
      "\n",
      "Cutting planes:\n",
      "  Gomory: 6\n",
      "  Flow cover: 14\n",
      "\n",
      "Explored 1 nodes (2321 simplex iterations) in 0.49 seconds (0.16 work units)\n",
      "Thread count was 12 (of 12 available processors)\n",
      "\n",
      "Solution count 5: 4.10874e+06 4.10971e+06 4.10973e+06 ... 1.00884e+07\n",
      "\n",
      "Optimal solution found (tolerance 1.00e-04)\n",
      "Best objective 4.108742950000e+06, best bound 4.108389950000e+06, gap 0.0086%\n"
     ]
    }
   ],
   "source": [
    "m.optimize()"
   ]
  },
  {
   "cell_type": "code",
   "execution_count": 46,
   "id": "8acf6aa9",
   "metadata": {},
   "outputs": [],
   "source": [
    "obj = m.getObjective()"
   ]
  },
  {
   "cell_type": "code",
   "execution_count": 47,
   "id": "8490d78c",
   "metadata": {},
   "outputs": [
    {
     "name": "stdout",
     "output_type": "stream",
     "text": [
      "4108742.949999998\n"
     ]
    }
   ],
   "source": [
    "print(obj.getValue())"
   ]
  },
  {
   "cell_type": "code",
   "execution_count": 48,
   "id": "30a82154",
   "metadata": {},
   "outputs": [],
   "source": [
    "m.write(\"2018.sol\")"
   ]
  },
  {
   "cell_type": "markdown",
   "id": "bcc16952",
   "metadata": {},
   "source": [
    "# Extract results\n"
   ]
  },
  {
   "cell_type": "code",
   "execution_count": 49,
   "id": "8b74d08e",
   "metadata": {},
   "outputs": [],
   "source": [
    "def Sol_pipeline(m):\n",
    "    \n",
    "    # Biomass\n",
    "    \n",
    "    res = []\n",
    "    for i in range(Di*Dj):\n",
    "        res.append((m.getVars()[i].X))\n",
    "    B_res = np.array(res)\n",
    "    B_res = B_res.reshape(Di,Dj)\n",
    "    idx = Di*Dj \n",
    "    \n",
    "    # Pellets\n",
    "    \n",
    "    res.clear()\n",
    "    for i in range(idx,(2*idx)):\n",
    "        res.append((m.getVars()[i].X))\n",
    "    P_res = np.array(res).reshape(Di,Dj)\n",
    "    idx = 2*idx\n",
    "    \n",
    "    # Harvesting sites\n",
    "    \n",
    "    res.clear()\n",
    "    for i in range(idx,(idx+Di)):\n",
    "        res.append((m.getVars()[i].X))\n",
    "    X_res = np.array(res)\n",
    "    idx = idx + Di\n",
    "    \n",
    "    \n",
    "    return {\"B\" : B_res , \"P\" : P_res , \"X\" : X_res}"
   ]
  },
  {
   "cell_type": "code",
   "execution_count": 50,
   "id": "9601a352",
   "metadata": {},
   "outputs": [],
   "source": [
    "result = Sol_pipeline(m)"
   ]
  },
  {
   "cell_type": "code",
   "execution_count": 52,
   "id": "a8c4e317",
   "metadata": {},
   "outputs": [],
   "source": [
    "B_res = result[\"B\"]\n",
    "P_res = result[\"P\"]\n",
    "X_res = result[\"X\"]\n",
    "Y_res = Y\n",
    "Z_res = Z"
   ]
  },
  {
   "cell_type": "code",
   "execution_count": 54,
   "id": "7b26a53e",
   "metadata": {},
   "outputs": [],
   "source": [
    "P_sum = np.zeros((Dj))\n",
    "B_sum = np.zeros((Di))\n",
    "Depot_sum = np.zeros((Di))\n",
    "Refinery_sum = np.zeros((Dj))"
   ]
  },
  {
   "cell_type": "code",
   "execution_count": 55,
   "id": "8991051c",
   "metadata": {},
   "outputs": [],
   "source": [
    "# Round off\n",
    "for i in range(Di):\n",
    "    for j in range(Dj):\n",
    "        B_res[i][j] = round(B_res[i][j],2)\n",
    "B_sum = B_res.sum(axis = 1)\n",
    "P_sum = P_res.sum(axis = 1)\n",
    "Depot_sum = B_res.sum(axis = 0)\n",
    "Refinery_sum = P_res.sum(axis = 0)"
   ]
  },
  {
   "cell_type": "code",
   "execution_count": 56,
   "id": "831902f1",
   "metadata": {},
   "outputs": [
    {
     "data": {
      "text/plain": [
       "43525.6"
      ]
     },
     "execution_count": 56,
     "metadata": {},
     "output_type": "execute_result"
    }
   ],
   "source": [
    "B_res.sum()"
   ]
  },
  {
   "cell_type": "markdown",
   "id": "b2fd68eb",
   "metadata": {},
   "source": [
    "# Checks"
   ]
  },
  {
   "cell_type": "code",
   "execution_count": 57,
   "id": "104b5dbe",
   "metadata": {},
   "outputs": [
    {
     "name": "stdout",
     "output_type": "stream",
     "text": [
      "True True True\n"
     ]
    }
   ],
   "source": [
    "# All values (forecasted biomass, biomass demand-supply, pellet demand-supply) must be\n",
    "# greater than or equal to zero. \n",
    "\n",
    "print(False not in (Biomass >= 0),\n",
    "False not in (B_res >= 0),\n",
    "False not in (P_res >= 0 ))"
   ]
  },
  {
   "cell_type": "code",
   "execution_count": 58,
   "id": "7fb39085",
   "metadata": {},
   "outputs": [
    {
     "data": {
      "text/plain": [
       "True"
      ]
     },
     "execution_count": 58,
     "metadata": {},
     "output_type": "execute_result"
    }
   ],
   "source": [
    "# The amount of biomass procured for processing from each harvesting site ′𝑖′ must be less than\n",
    "# or equal to that site’s forecasted biomass.\n",
    "\n",
    "False not in (Biomass  - B_sum >= 0 )\n"
   ]
  },
  {
   "cell_type": "code",
   "execution_count": 59,
   "id": "a43565ad",
   "metadata": {},
   "outputs": [
    {
     "data": {
      "text/plain": [
       "True"
      ]
     },
     "execution_count": 59,
     "metadata": {},
     "output_type": "execute_result"
    }
   ],
   "source": [
    "# Total biomass reaching each preprocessing depot ′𝑗′ must be less than or equal to its yearly\n",
    "# processing capacity (20,000).\n",
    "\n",
    "False not in (Depot_sum <= 4000)"
   ]
  },
  {
   "cell_type": "code",
   "execution_count": 60,
   "id": "a691ff33",
   "metadata": {},
   "outputs": [
    {
     "data": {
      "text/plain": [
       "True"
      ]
     },
     "execution_count": 60,
     "metadata": {},
     "output_type": "execute_result"
    }
   ],
   "source": [
    "# Total pellets reaching each refinery ′𝑘′ must be less than or equal to its yearly processing\n",
    "# capacity (100,000).\n",
    "\n",
    "False not in (Refinery_sum <= 20000)"
   ]
  },
  {
   "cell_type": "code",
   "execution_count": 63,
   "id": "3a3aba73",
   "metadata": {},
   "outputs": [
    {
     "data": {
      "text/plain": [
       "True"
      ]
     },
     "execution_count": 63,
     "metadata": {},
     "output_type": "execute_result"
    }
   ],
   "source": [
    "# Number of depots should be less than or equal to 25.\n",
    "\n",
    "(Y_res.sum() <= 25)"
   ]
  },
  {
   "cell_type": "code",
   "execution_count": 64,
   "id": "58660115",
   "metadata": {},
   "outputs": [
    {
     "data": {
      "text/plain": [
       "True"
      ]
     },
     "execution_count": 64,
     "metadata": {},
     "output_type": "execute_result"
    }
   ],
   "source": [
    "# Number of refineries should be less than or equal to 5.\n",
    "\n",
    "(Z_res.sum() <= 5)"
   ]
  },
  {
   "cell_type": "code",
   "execution_count": 65,
   "id": "9a682b4a",
   "metadata": {},
   "outputs": [
    {
     "data": {
      "text/plain": [
       "True"
      ]
     },
     "execution_count": 65,
     "metadata": {},
     "output_type": "execute_result"
    }
   ],
   "source": [
    "# At least 80% of the total forecasted biomass must be processed by refineries each year.\n",
    "(B_res.sum() >= (0.8 * Biomass.sum()))"
   ]
  },
  {
   "cell_type": "code",
   "execution_count": 66,
   "id": "27519a3e",
   "metadata": {},
   "outputs": [
    {
     "data": {
      "text/plain": [
       "True"
      ]
     },
     "execution_count": 66,
     "metadata": {},
     "output_type": "execute_result"
    }
   ],
   "source": [
    "# Total amount of biomass entering each preprocessing depot is equal to the total amount of\n",
    "# pellets exiting that depot (within tolerance limit of 1e-03).\n",
    "\n",
    "(B_res.sum() - P_res.sum()) <= 0.001 "
   ]
  },
  {
   "cell_type": "markdown",
   "id": "4803b4e1",
   "metadata": {},
   "source": [
    "# Objective estimate"
   ]
  },
  {
   "cell_type": "code",
   "execution_count": 68,
   "id": "d81467a4",
   "metadata": {},
   "outputs": [],
   "source": [
    "residual1 = (Y_res.sum()*25000 - B_sum.sum())"
   ]
  },
  {
   "cell_type": "code",
   "execution_count": 69,
   "id": "0701cefc",
   "metadata": {},
   "outputs": [],
   "source": [
    "residual2 = (Z_res.sum()*100000 - P_sum.sum())"
   ]
  },
  {
   "cell_type": "code",
   "execution_count": 70,
   "id": "9240f3a4",
   "metadata": {},
   "outputs": [],
   "source": [
    "transcost = (DistanceB*B_res).sum() + (DistanceP*P_res).sum()"
   ]
  },
  {
   "cell_type": "code",
   "execution_count": 71,
   "id": "fb929981",
   "metadata": {},
   "outputs": [],
   "source": [
    "estobj = residual1 + residual2 + transcost"
   ]
  },
  {
   "cell_type": "code",
   "execution_count": 74,
   "id": "6a1e366f",
   "metadata": {},
   "outputs": [
    {
     "data": {
      "text/plain": [
       "2.3283064365386963e-09"
      ]
     },
     "execution_count": 74,
     "metadata": {},
     "output_type": "execute_result"
    }
   ],
   "source": [
    "estobj - obj.getValue()"
   ]
  },
  {
   "cell_type": "markdown",
   "id": "58db6df9",
   "metadata": {},
   "source": [
    "# Final output"
   ]
  },
  {
   "cell_type": "code",
   "execution_count": 85,
   "id": "96e47d15",
   "metadata": {},
   "outputs": [
    {
     "name": "stdout",
     "output_type": "stream",
     "text": [
      "14 95\n"
     ]
    }
   ],
   "source": [
    "# DEPOTS\n",
    "Dtest = []\n",
    "for i in range(Di):\n",
    "    if(Y_res[i] == 1):\n",
    "        Dtest.append(i)\n",
    "print(np.array(Dtest).min(), np.array(Dtest).max())\n",
    "pd.DataFrame(Dtest, columns = [\"Depot_loc\"]).to_csv(\"18Depots\",index = False)"
   ]
  },
  {
   "cell_type": "code",
   "execution_count": 86,
   "id": "122082a5",
   "metadata": {},
   "outputs": [
    {
     "name": "stdout",
     "output_type": "stream",
     "text": [
      "62 83\n"
     ]
    }
   ],
   "source": [
    "# Refineries\n",
    "Rtest = []\n",
    "for i in range(Di):\n",
    "    if(Z_res[i] == 1):\n",
    "        Rtest.append(i)\n",
    "print(np.array(Rtest).min(), np.array(Rtest).max())\n",
    "pd.DataFrame(Dtest, columns = [\"Refinery_loc\"]).to_csv(\"18Refineries\",index = False)"
   ]
  },
  {
   "cell_type": "code",
   "execution_count": 87,
   "id": "4231852e",
   "metadata": {},
   "outputs": [
    {
     "name": "stdout",
     "output_type": "stream",
     "text": [
      "0 99\n"
     ]
    }
   ],
   "source": [
    "# Harvesting sites\n",
    "Htest = []\n",
    "for i in range(Di):\n",
    "    if(X_res[i] == 1):\n",
    "        Htest.append(i)\n",
    "print(np.array(Htest).min(), np.array(Htest).max())\n",
    "pd.DataFrame(Htest, columns = [\"Harvesting_loc\"]).to_csv(\"18HarvestSites\",index = False)"
   ]
  },
  {
   "cell_type": "code",
   "execution_count": 118,
   "id": "da8bb042",
   "metadata": {},
   "outputs": [],
   "source": [
    "# Biomass supply_demand\n",
    "Btest = {\"Source\" : [], \"Destination\":[], \"Value\" : []}\n",
    "for i in range(Di):\n",
    "    for j in range(Dj):\n",
    "        if(B_res[i][j] != 0):\n",
    "            Btest[\"Source\"].append(i)\n",
    "            Btest[\"Destination\"].append(j)\n",
    "            Btest[\"Value\"].append(B_res[i][j])\n",
    "np.array(Btest[\"Value\"]).sum() >= 0.8*Biomass.sum()\n",
    "pd.DataFrame(Btest).to_csv(\"18Biomass_supply.csv\",index=False)"
   ]
  },
  {
   "cell_type": "code",
   "execution_count": 122,
   "id": "9f16733f",
   "metadata": {},
   "outputs": [],
   "source": [
    "# Pellets supply demand\n",
    "Ptest = {\"Source\" : [], \"Destination\":[], \"Value\" : []}\n",
    "for i in range(Di):\n",
    "    for j in range(Dj):\n",
    "        if(P_res[i][j] != 0):\n",
    "            Ptest[\"Source\"].append(i)\n",
    "            Ptest[\"Destination\"].append(j)\n",
    "            Ptest[\"Value\"].append(P_res[i][j])\n",
    "np.array(Ptest[\"Value\"]).sum() >= 0.8*Biomass.sum()\n",
    "pd.DataFrame(Ptest).to_csv(\"18Pellets_supply.csv\",index=False)"
   ]
  }
 ],
 "metadata": {
  "kernelspec": {
   "display_name": "Python 3 (ipykernel)",
   "language": "python",
   "name": "python3"
  },
  "language_info": {
   "codemirror_mode": {
    "name": "ipython",
    "version": 3
   },
   "file_extension": ".py",
   "mimetype": "text/x-python",
   "name": "python",
   "nbconvert_exporter": "python",
   "pygments_lexer": "ipython3",
   "version": "3.9.13"
  }
 },
 "nbformat": 4,
 "nbformat_minor": 5
}
