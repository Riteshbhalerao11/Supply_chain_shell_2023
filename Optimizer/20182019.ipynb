{
 "cells": [
  {
   "cell_type": "code",
   "execution_count": 22,
   "id": "6993e4be",
   "metadata": {},
   "outputs": [],
   "source": [
    "from gurobipy import *\n",
    "import numpy as np\n",
    "import pandas as pd"
   ]
  },
  {
   "cell_type": "markdown",
   "id": "16de70b8",
   "metadata": {},
   "source": [
    "# Structure\n"
   ]
  },
  {
   "cell_type": "code",
   "execution_count": 23,
   "id": "58717526",
   "metadata": {},
   "outputs": [],
   "source": [
    "Biomass  = pd.read_csv(\"pred_2019.csv\")[\"Min1819\"].values"
   ]
  },
  {
   "cell_type": "code",
   "execution_count": 24,
   "id": "3325b155",
   "metadata": {},
   "outputs": [
    {
     "data": {
      "text/plain": [
       "344599.9615984451"
      ]
     },
     "execution_count": 24,
     "metadata": {},
     "output_type": "execute_result"
    }
   ],
   "source": [
    "Biomass.sum()"
   ]
  },
  {
   "cell_type": "code",
   "execution_count": 25,
   "id": "71bc83b1",
   "metadata": {},
   "outputs": [],
   "source": [
    "UB = pd.read_csv(\"pred_2019.csv\")[\"2018\"].values"
   ]
  },
  {
   "cell_type": "code",
   "execution_count": 26,
   "id": "892e3316",
   "metadata": {},
   "outputs": [
    {
     "data": {
      "text/plain": [
       "284792.43719617085"
      ]
     },
     "execution_count": 26,
     "metadata": {},
     "output_type": "execute_result"
    }
   ],
   "source": [
    "UB.sum() * 0.8"
   ]
  },
  {
   "cell_type": "code",
   "execution_count": 27,
   "id": "c3872647",
   "metadata": {},
   "outputs": [],
   "source": [
    "DistanceB = pd.read_csv(\"Distance_Matrix.csv\").drop(columns = [\"INDEX\"])"
   ]
  },
  {
   "cell_type": "code",
   "execution_count": 28,
   "id": "a7b08f92",
   "metadata": {},
   "outputs": [
    {
     "data": {
      "text/html": [
       "<div>\n",
       "<style scoped>\n",
       "    .dataframe tbody tr th:only-of-type {\n",
       "        vertical-align: middle;\n",
       "    }\n",
       "\n",
       "    .dataframe tbody tr th {\n",
       "        vertical-align: top;\n",
       "    }\n",
       "\n",
       "    .dataframe thead th {\n",
       "        text-align: right;\n",
       "    }\n",
       "</style>\n",
       "<table border=\"1\" class=\"dataframe\">\n",
       "  <thead>\n",
       "    <tr style=\"text-align: right;\">\n",
       "      <th></th>\n",
       "      <th>0</th>\n",
       "      <th>1</th>\n",
       "      <th>2</th>\n",
       "      <th>3</th>\n",
       "      <th>4</th>\n",
       "      <th>5</th>\n",
       "      <th>6</th>\n",
       "      <th>7</th>\n",
       "      <th>8</th>\n",
       "      <th>9</th>\n",
       "      <th>...</th>\n",
       "      <th>2408</th>\n",
       "      <th>2409</th>\n",
       "      <th>2410</th>\n",
       "      <th>2411</th>\n",
       "      <th>2412</th>\n",
       "      <th>2413</th>\n",
       "      <th>2414</th>\n",
       "      <th>2415</th>\n",
       "      <th>2416</th>\n",
       "      <th>2417</th>\n",
       "    </tr>\n",
       "  </thead>\n",
       "  <tbody>\n",
       "    <tr>\n",
       "      <th>0</th>\n",
       "      <td>0.0000</td>\n",
       "      <td>11.3769</td>\n",
       "      <td>20.4557</td>\n",
       "      <td>38.1227</td>\n",
       "      <td>45.3810</td>\n",
       "      <td>54.9915</td>\n",
       "      <td>78.6108</td>\n",
       "      <td>118.6750</td>\n",
       "      <td>102.6639</td>\n",
       "      <td>113.4309</td>\n",
       "      <td>...</td>\n",
       "      <td>683.8771</td>\n",
       "      <td>687.6310</td>\n",
       "      <td>697.3246</td>\n",
       "      <td>669.3962</td>\n",
       "      <td>667.6788</td>\n",
       "      <td>665.5775</td>\n",
       "      <td>662.0291</td>\n",
       "      <td>665.9655</td>\n",
       "      <td>673.2073</td>\n",
       "      <td>681.4235</td>\n",
       "    </tr>\n",
       "    <tr>\n",
       "      <th>1</th>\n",
       "      <td>11.3769</td>\n",
       "      <td>0.0000</td>\n",
       "      <td>9.0788</td>\n",
       "      <td>28.9141</td>\n",
       "      <td>36.1724</td>\n",
       "      <td>45.7829</td>\n",
       "      <td>69.4022</td>\n",
       "      <td>78.2329</td>\n",
       "      <td>93.4553</td>\n",
       "      <td>111.1832</td>\n",
       "      <td>...</td>\n",
       "      <td>681.6295</td>\n",
       "      <td>685.3833</td>\n",
       "      <td>695.0769</td>\n",
       "      <td>667.1485</td>\n",
       "      <td>665.4311</td>\n",
       "      <td>663.3298</td>\n",
       "      <td>659.7815</td>\n",
       "      <td>663.7178</td>\n",
       "      <td>670.9596</td>\n",
       "      <td>679.1758</td>\n",
       "    </tr>\n",
       "    <tr>\n",
       "      <th>2</th>\n",
       "      <td>20.4557</td>\n",
       "      <td>9.0788</td>\n",
       "      <td>0.0000</td>\n",
       "      <td>22.3791</td>\n",
       "      <td>29.6374</td>\n",
       "      <td>39.2478</td>\n",
       "      <td>62.8671</td>\n",
       "      <td>71.6979</td>\n",
       "      <td>86.9203</td>\n",
       "      <td>111.7859</td>\n",
       "      <td>...</td>\n",
       "      <td>682.2323</td>\n",
       "      <td>685.9861</td>\n",
       "      <td>695.6796</td>\n",
       "      <td>667.7513</td>\n",
       "      <td>666.0339</td>\n",
       "      <td>663.9326</td>\n",
       "      <td>660.3843</td>\n",
       "      <td>664.3206</td>\n",
       "      <td>671.5623</td>\n",
       "      <td>679.7786</td>\n",
       "    </tr>\n",
       "    <tr>\n",
       "      <th>3</th>\n",
       "      <td>38.1227</td>\n",
       "      <td>28.9141</td>\n",
       "      <td>22.3791</td>\n",
       "      <td>0.0000</td>\n",
       "      <td>11.8343</td>\n",
       "      <td>23.5413</td>\n",
       "      <td>41.8396</td>\n",
       "      <td>50.6703</td>\n",
       "      <td>65.8927</td>\n",
       "      <td>82.5852</td>\n",
       "      <td>...</td>\n",
       "      <td>681.4226</td>\n",
       "      <td>685.1765</td>\n",
       "      <td>694.8701</td>\n",
       "      <td>666.9417</td>\n",
       "      <td>665.2243</td>\n",
       "      <td>663.1230</td>\n",
       "      <td>659.5746</td>\n",
       "      <td>663.5110</td>\n",
       "      <td>670.7528</td>\n",
       "      <td>678.9690</td>\n",
       "    </tr>\n",
       "    <tr>\n",
       "      <th>4</th>\n",
       "      <td>45.3810</td>\n",
       "      <td>36.1724</td>\n",
       "      <td>29.6374</td>\n",
       "      <td>11.8343</td>\n",
       "      <td>0.0000</td>\n",
       "      <td>11.7070</td>\n",
       "      <td>24.3986</td>\n",
       "      <td>33.2293</td>\n",
       "      <td>53.9901</td>\n",
       "      <td>65.1442</td>\n",
       "      <td>...</td>\n",
       "      <td>663.9816</td>\n",
       "      <td>667.7355</td>\n",
       "      <td>677.4291</td>\n",
       "      <td>649.5007</td>\n",
       "      <td>647.7833</td>\n",
       "      <td>645.6820</td>\n",
       "      <td>642.1336</td>\n",
       "      <td>646.0700</td>\n",
       "      <td>653.3118</td>\n",
       "      <td>661.5280</td>\n",
       "    </tr>\n",
       "  </tbody>\n",
       "</table>\n",
       "<p>5 rows × 2418 columns</p>\n",
       "</div>"
      ],
      "text/plain": [
       "         0        1        2        3        4        5        6         7  \\\n",
       "0   0.0000  11.3769  20.4557  38.1227  45.3810  54.9915  78.6108  118.6750   \n",
       "1  11.3769   0.0000   9.0788  28.9141  36.1724  45.7829  69.4022   78.2329   \n",
       "2  20.4557   9.0788   0.0000  22.3791  29.6374  39.2478  62.8671   71.6979   \n",
       "3  38.1227  28.9141  22.3791   0.0000  11.8343  23.5413  41.8396   50.6703   \n",
       "4  45.3810  36.1724  29.6374  11.8343   0.0000  11.7070  24.3986   33.2293   \n",
       "\n",
       "          8         9  ...      2408      2409      2410      2411      2412  \\\n",
       "0  102.6639  113.4309  ...  683.8771  687.6310  697.3246  669.3962  667.6788   \n",
       "1   93.4553  111.1832  ...  681.6295  685.3833  695.0769  667.1485  665.4311   \n",
       "2   86.9203  111.7859  ...  682.2323  685.9861  695.6796  667.7513  666.0339   \n",
       "3   65.8927   82.5852  ...  681.4226  685.1765  694.8701  666.9417  665.2243   \n",
       "4   53.9901   65.1442  ...  663.9816  667.7355  677.4291  649.5007  647.7833   \n",
       "\n",
       "       2413      2414      2415      2416      2417  \n",
       "0  665.5775  662.0291  665.9655  673.2073  681.4235  \n",
       "1  663.3298  659.7815  663.7178  670.9596  679.1758  \n",
       "2  663.9326  660.3843  664.3206  671.5623  679.7786  \n",
       "3  663.1230  659.5746  663.5110  670.7528  678.9690  \n",
       "4  645.6820  642.1336  646.0700  653.3118  661.5280  \n",
       "\n",
       "[5 rows x 2418 columns]"
      ]
     },
     "execution_count": 28,
     "metadata": {},
     "output_type": "execute_result"
    }
   ],
   "source": [
    "DistanceB.head()"
   ]
  },
  {
   "cell_type": "code",
   "execution_count": 29,
   "id": "5e8ad79d",
   "metadata": {},
   "outputs": [
    {
     "data": {
      "text/plain": [
       "(2418, 2418)"
      ]
     },
     "execution_count": 29,
     "metadata": {},
     "output_type": "execute_result"
    }
   ],
   "source": [
    "DistanceB = DistanceB.values\n",
    "DistanceB.shape"
   ]
  },
  {
   "cell_type": "code",
   "execution_count": 30,
   "id": "c7dfcf9d",
   "metadata": {},
   "outputs": [],
   "source": [
    "DistanceP = DistanceB.copy()"
   ]
  },
  {
   "cell_type": "code",
   "execution_count": 31,
   "id": "471bec65",
   "metadata": {},
   "outputs": [],
   "source": [
    "Di,Dj = DistanceB.shape "
   ]
  },
  {
   "cell_type": "code",
   "execution_count": 32,
   "id": "dfdc5ddb",
   "metadata": {},
   "outputs": [],
   "source": [
    "M = 10**9\n",
    "for i in range(Di):\n",
    "    for j in range(Dj):\n",
    "        if(i == j):\n",
    "            DistanceB[i][j] = M\n",
    "            DistanceP[i][j] = 0"
   ]
  },
  {
   "cell_type": "code",
   "execution_count": 33,
   "id": "3aba2d3a",
   "metadata": {},
   "outputs": [
    {
     "name": "stdout",
     "output_type": "stream",
     "text": [
      "[[1.000000e+09 1.137690e+01 2.045570e+01 ... 6.659655e+02 6.732073e+02\n",
      "  6.814235e+02]\n",
      " [1.137690e+01 1.000000e+09 9.078800e+00 ... 6.637178e+02 6.709596e+02\n",
      "  6.791758e+02]\n",
      " [2.045570e+01 9.078800e+00 1.000000e+09 ... 6.643206e+02 6.715623e+02\n",
      "  6.797786e+02]\n",
      " ...\n",
      " [6.637748e+02 6.615271e+02 6.621298e+02 ... 1.000000e+09 1.424230e+01\n",
      "  2.245860e+01]\n",
      " [6.710165e+02 6.687688e+02 6.693715e+02 ... 1.424230e+01 1.000000e+09\n",
      "  1.247410e+01]\n",
      " [6.792328e+02 6.769851e+02 6.775878e+02 ... 2.245860e+01 1.247410e+01\n",
      "  1.000000e+09]]\n"
     ]
    }
   ],
   "source": [
    "print(DistanceB)"
   ]
  },
  {
   "cell_type": "code",
   "execution_count": 34,
   "id": "24c31989",
   "metadata": {},
   "outputs": [
    {
     "name": "stdout",
     "output_type": "stream",
     "text": [
      "[[  0.      11.3769  20.4557 ... 665.9655 673.2073 681.4235]\n",
      " [ 11.3769   0.       9.0788 ... 663.7178 670.9596 679.1758]\n",
      " [ 20.4557   9.0788   0.     ... 664.3206 671.5623 679.7786]\n",
      " ...\n",
      " [663.7748 661.5271 662.1298 ...   0.      14.2423  22.4586]\n",
      " [671.0165 668.7688 669.3715 ...  14.2423   0.      12.4741]\n",
      " [679.2328 676.9851 677.5878 ...  22.4586  12.4741   0.    ]]\n"
     ]
    }
   ],
   "source": [
    "print(DistanceP)"
   ]
  },
  {
   "cell_type": "markdown",
   "id": "a3f3d9e2",
   "metadata": {},
   "source": [
    "# Variables\n"
   ]
  },
  {
   "cell_type": "code",
   "execution_count": 21,
   "id": "02929935",
   "metadata": {},
   "outputs": [],
   "source": [
    "m = Model(\"Shell.ai.try\")"
   ]
  },
  {
   "cell_type": "code",
   "execution_count": 13,
   "id": "a4ca5390",
   "metadata": {},
   "outputs": [],
   "source": [
    "B = m.addMVar((Di,Dj), vtype= GRB.CONTINUOUS , lb = 0 , name = \"B\" )"
   ]
  },
  {
   "cell_type": "code",
   "execution_count": 14,
   "id": "6e307a0a",
   "metadata": {},
   "outputs": [],
   "source": [
    "P = m.addMVar((Di,Dj), vtype= GRB.CONTINUOUS , lb = 0 , name= \"P\")"
   ]
  },
  {
   "cell_type": "code",
   "execution_count": 15,
   "id": "5ecc8840",
   "metadata": {},
   "outputs": [],
   "source": [
    "X = m.addMVar((Di), vtype= GRB.BINARY, name = \"X\")\n",
    "Y = m.addMVar((Di), vtype= GRB.BINARY , name = \"Y\")\n",
    "Z = m.addMVar((Di), vtype= GRB.BINARY, name = \"Z\")"
   ]
  },
  {
   "cell_type": "code",
   "execution_count": 16,
   "id": "cf9d2f58",
   "metadata": {},
   "outputs": [],
   "source": [
    "Xm = m.addMVar((Di) , vtype= GRB.CONTINUOUS, name = \"Xm\", lb = 0)\n",
    "Ym = m.addMVar((Di) , vtype= GRB.CONTINUOUS, name = \"Ym\", lb = 0)\n",
    "Zm = m.addMVar((Di) , vtype= GRB.CONTINUOUS, name = \"Zm\" ,lb = 0)"
   ]
  },
  {
   "cell_type": "code",
   "execution_count": null,
   "id": "456d8010",
   "metadata": {},
   "outputs": [],
   "source": [
    "babs = m.addVar(vtype= GRB.CONTINUOUS , name = \"babs\" , lb = 0)"
   ]
  },
  {
   "cell_type": "markdown",
   "id": "adaa606f",
   "metadata": {},
   "source": [
    "# Objective"
   ]
  },
  {
   "cell_type": "code",
   "execution_count": 18,
   "id": "e94a4ef0",
   "metadata": {},
   "outputs": [],
   "source": [
    "import gurobipy as gp"
   ]
  },
  {
   "cell_type": "code",
   "execution_count": 19,
   "id": "b61a5e61",
   "metadata": {},
   "outputs": [],
   "source": [
    "exp1 = (DistanceB*B).sum()"
   ]
  },
  {
   "cell_type": "code",
   "execution_count": 20,
   "id": "ade7fbd7",
   "metadata": {},
   "outputs": [],
   "source": [
    "exp1 += (DistanceP*P).sum()"
   ]
  },
  {
   "cell_type": "code",
   "execution_count": 21,
   "id": "a3278418",
   "metadata": {},
   "outputs": [],
   "source": [
    "exp2 = (20000*Y - B.sum(axis=0)).sum()"
   ]
  },
  {
   "cell_type": "code",
   "execution_count": 22,
   "id": "c9ba6fc5",
   "metadata": {},
   "outputs": [],
   "source": [
    "exp3 = (100000*Z - P.sum(axis=0)).sum()"
   ]
  },
  {
   "cell_type": "code",
   "execution_count": 23,
   "id": "7d45eb60",
   "metadata": {},
   "outputs": [],
   "source": [
    "m.setObjective(exp1 + exp2 + exp3 , GRB.MINIMIZE)"
   ]
  },
  {
   "cell_type": "code",
   "execution_count": 24,
   "id": "96a47bd9",
   "metadata": {},
   "outputs": [],
   "source": [
    "m.update()"
   ]
  },
  {
   "cell_type": "markdown",
   "id": "3a87ed9a",
   "metadata": {},
   "source": [
    "# Constraints"
   ]
  },
  {
   "cell_type": "code",
   "execution_count": 25,
   "id": "a6d6f4cf",
   "metadata": {},
   "outputs": [],
   "source": [
    "x_mask = []\n",
    "for i in range(Di):\n",
    "    x_mask = B[i].tolist()\n",
    "    m.addConstr(Xm[i] == max_(x_mask,constant = 0), name=f\"C1m{i}\")\n",
    "    m.addConstr(X[i] == min_(Xm[i],constant = 1), name=f\"C1{i}\")"
   ]
  },
  {
   "cell_type": "code",
   "execution_count": 26,
   "id": "ddc9ca0a",
   "metadata": {},
   "outputs": [],
   "source": [
    "y_mask = []\n",
    "for i in range(Dj):\n",
    "    y_mask = B[:,i].tolist()\n",
    "    m.addConstr(Ym[i] == max_(y_mask,constant = 0), name=f\"C2m{i}\")\n",
    "    m.addConstr(Y[i] == min_(Ym[i],constant = 1), name=f\"C2{i}\")"
   ]
  },
  {
   "cell_type": "code",
   "execution_count": 27,
   "id": "04d16e4a",
   "metadata": {},
   "outputs": [],
   "source": [
    "z_mask = []\n",
    "for i in range(Dj):\n",
    "    z_mask = P[:,i].tolist()\n",
    "    m.addConstr(Zm[i] == max_(z_mask,constant = 0), name=f\"C3m{i}\")\n",
    "    m.addConstr(Z[i] == min_(Zm[i],constant = 1), name=f\"C3{i}\")"
   ]
  },
  {
   "cell_type": "code",
   "execution_count": null,
   "id": "63f39785",
   "metadata": {},
   "outputs": [],
   "source": [
    "z_mask = []\n",
    "for i in range(Dj):\n",
    "    z_mask = P[i].tolist()\n",
    "    m.addConstr(Zm[i] == max_(z_mask,constant = 0), name=f\"C32_m{i}\")\n",
    "    m.addConstr(Y[i] == min_(Ym[i],constant = 1), name=f\"C32_{i}\")"
   ]
  },
  {
   "cell_type": "code",
   "execution_count": null,
   "id": "8d97e408",
   "metadata": {},
   "outputs": [],
   "source": [
    "B_sum = B.sum(axis=0)\n",
    "P_sum = P.sum(axis=1)"
   ]
  },
  {
   "cell_type": "code",
   "execution_count": null,
   "id": "09247040",
   "metadata": {},
   "outputs": [],
   "source": [
    "for i in range(Di):\n",
    "    m.addConstr(B_sum[i] == P_sum[i])"
   ]
  },
  {
   "cell_type": "code",
   "execution_count": 28,
   "id": "e305597e",
   "metadata": {},
   "outputs": [],
   "source": [
    "B_sum = B.sum(axis=1)\n",
    "for i in range(Di):\n",
    "    m.addConstr(B_sum[i] - Biomass[i] <= 0 , name=f\"C_4_{i}\")"
   ]
  },
  {
   "cell_type": "code",
   "execution_count": 29,
   "id": "43db5272",
   "metadata": {},
   "outputs": [],
   "source": [
    "B_sum = B.sum(axis=0)\n",
    "for j in range(Dj):\n",
    "    m.addConstr(B_sum[j] - 20000 <= 0 , name = f\"C_5_{j}\")"
   ]
  },
  {
   "cell_type": "code",
   "execution_count": 30,
   "id": "483df418",
   "metadata": {},
   "outputs": [],
   "source": [
    "P_sum = P.sum(axis =0)\n",
    "for j in range(Dj):\n",
    "    m.addConstr(P_sum[j] - 100000 <= 0 , name = f\"C_6_{j}\")"
   ]
  },
  {
   "cell_type": "code",
   "execution_count": 31,
   "id": "5eb34e96",
   "metadata": {},
   "outputs": [],
   "source": [
    "con7 = (Y.sum() <= 25)"
   ]
  },
  {
   "cell_type": "code",
   "execution_count": 32,
   "id": "f01effd7",
   "metadata": {},
   "outputs": [
    {
     "data": {
      "text/plain": [
       "<MConstr () *awaiting model update*>"
      ]
     },
     "execution_count": 32,
     "metadata": {},
     "output_type": "execute_result"
    }
   ],
   "source": [
    "m.addConstr(con7 , name = \"C_7\")"
   ]
  },
  {
   "cell_type": "code",
   "execution_count": 33,
   "id": "1ecf1eed",
   "metadata": {},
   "outputs": [],
   "source": [
    "con8 = (Z.sum() <= 5)"
   ]
  },
  {
   "cell_type": "code",
   "execution_count": 34,
   "id": "91f4f9cf",
   "metadata": {},
   "outputs": [
    {
     "data": {
      "text/plain": [
       "<MConstr () *awaiting model update*>"
      ]
     },
     "execution_count": 34,
     "metadata": {},
     "output_type": "execute_result"
    }
   ],
   "source": [
    "m.addConstr(con8 , name = \"C_8\")"
   ]
  },
  {
   "cell_type": "code",
   "execution_count": 35,
   "id": "04bab1c4",
   "metadata": {},
   "outputs": [],
   "source": [
    "con9 = (B.sum() >= ((0.8*(UB.sum())+ 1))"
   ]
  },
  {
   "cell_type": "code",
   "execution_count": 36,
   "id": "2eec5756",
   "metadata": {},
   "outputs": [
    {
     "data": {
      "text/plain": [
       "<MConstr () *awaiting model update*>"
      ]
     },
     "execution_count": 36,
     "metadata": {},
     "output_type": "execute_result"
    }
   ],
   "source": [
    "m.addConstr(con9 , name = \"C_9\")"
   ]
  },
  {
   "cell_type": "code",
   "execution_count": null,
   "id": "d50d18f3",
   "metadata": {},
   "outputs": [],
   "source": [
    "m.addConstr(babs == (B.sum() - P.sum()) , name = \"C_10_1\")"
   ]
  },
  {
   "cell_type": "code",
   "execution_count": null,
   "id": "3fa6c5e9",
   "metadata": {},
   "outputs": [],
   "source": [
    "m.addConstr(babs <= 0.0001, name = \"C_10_2\")"
   ]
  },
  {
   "cell_type": "code",
   "execution_count": 38,
   "id": "07f3ef91",
   "metadata": {},
   "outputs": [],
   "source": [
    "for i in range(Di):\n",
    "    m.addConstr(X[i] + Y[i] <= 1, name = f\"C_11_{i}\" )"
   ]
  },
  {
   "cell_type": "code",
   "execution_count": 39,
   "id": "62a20a23",
   "metadata": {},
   "outputs": [],
   "source": [
    "for i in range(Di):\n",
    "    m.addConstr(X[i] + Z[i] <= 1, name = f'C_12_{i}')"
   ]
  },
  {
   "cell_type": "code",
   "execution_count": 41,
   "id": "0831b83b",
   "metadata": {},
   "outputs": [],
   "source": [
    "m.update()"
   ]
  },
  {
   "cell_type": "code",
   "execution_count": 42,
   "id": "3fa7d11f",
   "metadata": {},
   "outputs": [],
   "source": [
    "m.write(\"1819.lp\")"
   ]
  },
  {
   "cell_type": "code",
   "execution_count": 74,
   "id": "6c740a7a",
   "metadata": {},
   "outputs": [],
   "source": [
    "# m.setParam(\"NoRelHeurTime\",80)\n",
    "# m.setParam(\"MIPGap\",0.4)\n",
    "# m.setParam(\"MIPFocus\",1)"
   ]
  },
  {
   "cell_type": "code",
   "execution_count": 75,
   "id": "085351e8",
   "metadata": {},
   "outputs": [
    {
     "name": "stdout",
     "output_type": "stream",
     "text": [
      "Gurobi Optimizer version 10.0.2 build v10.0.2rc0 (win64)\n",
      "\n",
      "CPU model: 12th Gen Intel(R) Core(TM) i5-12450H, instruction set [SSE2|AVX|AVX2]\n",
      "Thread count: 8 physical cores, 12 logical processors, using up to 12 threads\n",
      "\n",
      "Optimize a model with 505 rows, 20602 columns and 70602 nonzeros\n",
      "Model fingerprint: 0xd4e8a246\n",
      "Model has 600 general constraints\n",
      "Variable types: 20302 continuous, 300 integer (300 binary)\n",
      "Coefficient statistics:\n",
      "  Matrix range     [1e+00, 1e+00]\n",
      "  Objective range  [1e+00, 1e+09]\n",
      "  Bounds range     [3e-03, 1e+00]\n",
      "  RHS range        [1e+00, 4e+04]\n",
      "  GenCon const rng [1e+00, 1e+00]\n",
      "Presolved: 61172 rows, 80569 columns, 379458 nonzeros\n",
      "\n",
      "Continuing optimization...\n",
      "\n",
      "\n",
      "Cutting planes:\n",
      "  Gomory: 5\n",
      "  Cover: 138\n",
      "  Implied bound: 213\n",
      "  MIR: 26\n",
      "  Flow cover: 327\n",
      "  Zero half: 2\n",
      "  Relax-and-lift: 80\n",
      "  BQP: 6\n",
      "\n",
      "Explored 1 nodes (27722 simplex iterations) in 0.09 seconds (0.00 work units)\n",
      "Thread count was 12 (of 12 available processors)\n",
      "\n",
      "Solution count 1: 4.47656e+06 \n",
      "\n",
      "Optimal solution found (tolerance 4.00e-01)\n",
      "Best objective 4.476563200000e+06, best bound 3.906535360356e+06, gap 12.7336%\n"
     ]
    }
   ],
   "source": [
    "m.optimize()"
   ]
  },
  {
   "cell_type": "code",
   "execution_count": 65,
   "id": "8acf6aa9",
   "metadata": {},
   "outputs": [],
   "source": [
    "obj = m.getObjective()"
   ]
  },
  {
   "cell_type": "code",
   "execution_count": 66,
   "id": "8490d78c",
   "metadata": {},
   "outputs": [
    {
     "name": "stdout",
     "output_type": "stream",
     "text": [
      "4476563.200000001\n"
     ]
    }
   ],
   "source": [
    "print(obj.getValue())"
   ]
  },
  {
   "cell_type": "code",
   "execution_count": 47,
   "id": "30a82154",
   "metadata": {},
   "outputs": [],
   "source": [
    "m.write(\"1819.sol\")\n",
    "m.write('1819.mps')"
   ]
  },
  {
   "cell_type": "markdown",
   "id": "65c9d543",
   "metadata": {},
   "source": [
    "# Extract results"
   ]
  },
  {
   "cell_type": "code",
   "execution_count": 79,
   "id": "8b74d08e",
   "metadata": {},
   "outputs": [],
   "source": [
    "def Sol_pipeline(m):\n",
    "    \n",
    "    # Biomass\n",
    "    \n",
    "    res = []\n",
    "    for i in range(Di*Dj):\n",
    "        res.append(m.getVars()[i].X)\n",
    "    B_res = np.array(res)\n",
    "    B_res = B_res.reshape(Di,Dj)\n",
    "    idx = Di*Dj \n",
    "    \n",
    "    # Pellets\n",
    "    \n",
    "    res.clear()\n",
    "    for i in range(idx,(2*idx)):\n",
    "        res.append(m.getVars()[i].X)\n",
    "    P_res = np.array(res).reshape(Di,Dj)\n",
    "    idx = 2*idx\n",
    "    \n",
    "    # Harvesting sites\n",
    "    \n",
    "    res.clear()\n",
    "    for i in range(idx,(idx+Di)):\n",
    "        res.append(m.getVars()[i].X)\n",
    "    X_res = np.array(res)\n",
    "    idx = idx + Di\n",
    "    \n",
    "    # Depot sites\n",
    "    \n",
    "    res.clear()\n",
    "    for i in range(idx,idx+Di):\n",
    "        res.append(m.getVars()[i].X)\n",
    "    Y_res = np.array(res)\n",
    "    idx = idx + Di\n",
    "    \n",
    "    # Refinery sites\n",
    "    \n",
    "    res.clear()\n",
    "    for i in range(idx,idx+Di):\n",
    "        res.append(m.getVars()[i].X)\n",
    "    Z_res = np.array(res)\n",
    "    \n",
    "    return {\"B\" : B_res , \"P\" : P_res , \"X\" : X_res , \"Y\" : Y_res , \"Z\" : Z_res}"
   ]
  },
  {
   "cell_type": "code",
   "execution_count": 80,
   "id": "9601a352",
   "metadata": {},
   "outputs": [],
   "source": [
    "result = Sol_pipeline(m)"
   ]
  },
  {
   "cell_type": "code",
   "execution_count": 81,
   "id": "a8c4e317",
   "metadata": {},
   "outputs": [],
   "source": [
    "B_res = result[\"B\"]\n",
    "P_res = result[\"P\"]\n",
    "X_res = result[\"X\"]\n",
    "Y_res = result[\"Y\"]\n",
    "Z_res = result[\"Z\"]"
   ]
  },
  {
   "cell_type": "code",
   "execution_count": null,
   "id": "81cb1420",
   "metadata": {},
   "outputs": [],
   "source": [
    "P_sum = np.zeros((Dj))\n",
    "B_sum = np.zeros((Di))\n",
    "Depot_sum = np.zeros((Di))\n",
    "Refinery_sum = np.zeros((Dj))"
   ]
  },
  {
   "cell_type": "code",
   "execution_count": null,
   "id": "b4f3f2da",
   "metadata": {},
   "outputs": [],
   "source": [
    "# Round off\n",
    "# for i in range(Di):\n",
    "#     for j in range(Dj):\n",
    "#         B_res[i][j] = round(B_res[i][j],4)\n",
    "B_sum = B_res.sum(axis = 1)\n",
    "P_sum = P_res.sum(axis = 1)\n",
    "Depot_sum = B_res.sum(axis = 0)\n",
    "Refinery_sum = P_res.sum(axis = 0)"
   ]
  },
  {
   "cell_type": "code",
   "execution_count": null,
   "id": "5428f2e7",
   "metadata": {},
   "outputs": [],
   "source": [
    "B_res.sum()"
   ]
  },
  {
   "cell_type": "markdown",
   "id": "8095d30f",
   "metadata": {},
   "source": [
    "# Checks"
   ]
  },
  {
   "cell_type": "code",
   "execution_count": 83,
   "id": "7fb39085",
   "metadata": {},
   "outputs": [
    {
     "data": {
      "text/plain": [
       "False"
      ]
     },
     "execution_count": 83,
     "metadata": {},
     "output_type": "execute_result"
    }
   ],
   "source": [
    "# All values (forecasted biomass, biomass demand-supply, pellet demand-supply) must be\n",
    "# greater than or equal to zero. \n",
    "\n",
    "print(False not in (Biomass >= 0),\n",
    "False not in (B_res >= 0),\n",
    "False not in (P_res >= 0 ))"
   ]
  },
  {
   "cell_type": "code",
   "execution_count": 84,
   "id": "a43565ad",
   "metadata": {},
   "outputs": [
    {
     "data": {
      "text/plain": [
       "3.0"
      ]
     },
     "execution_count": 84,
     "metadata": {},
     "output_type": "execute_result"
    }
   ],
   "source": [
    "# The amount of biomass procured for processing from each harvesting site ′𝑖′ must be less than\n",
    "# or equal to that site’s forecasted biomass.\n",
    "\n",
    "False not in (Biomass  - B_sum >= 0 )"
   ]
  },
  {
   "cell_type": "code",
   "execution_count": 85,
   "id": "a691ff33",
   "metadata": {},
   "outputs": [
    {
     "data": {
      "text/plain": [
       "False"
      ]
     },
     "execution_count": 85,
     "metadata": {},
     "output_type": "execute_result"
    }
   ],
   "source": [
    "# Total biomass reaching each preprocessing depot ′𝑗′ must be less than or equal to its yearly\n",
    "# processing capacity (20,000).\n",
    "\n",
    "False not in (Depot_sum <= 20000)"
   ]
  },
  {
   "cell_type": "code",
   "execution_count": 86,
   "id": "ed2f6149",
   "metadata": {},
   "outputs": [
    {
     "data": {
      "text/plain": [
       "False"
      ]
     },
     "execution_count": 86,
     "metadata": {},
     "output_type": "execute_result"
    }
   ],
   "source": [
    "# Total pellets reaching each refinery ′𝑘′ must be less than or equal to its yearly processing\n",
    "# capacity (100,000).\n",
    "\n",
    "False not in (Refinery_sum <= 100000)"
   ]
  },
  {
   "cell_type": "code",
   "execution_count": 87,
   "id": "d81467a4",
   "metadata": {},
   "outputs": [
    {
     "data": {
      "text/plain": [
       "32475.199999999997"
      ]
     },
     "execution_count": 87,
     "metadata": {},
     "output_type": "execute_result"
    }
   ],
   "source": [
    "# Number of depots should be less than or equal to 25.\n",
    "\n",
    "(Y_res.sum() <= 25)"
   ]
  },
  {
   "cell_type": "code",
   "execution_count": 88,
   "id": "0701cefc",
   "metadata": {},
   "outputs": [
    {
     "data": {
      "text/plain": [
       "16475.199999999997"
      ]
     },
     "execution_count": 88,
     "metadata": {},
     "output_type": "execute_result"
    }
   ],
   "source": [
    "# Number of refineries should be less than or equal to 5.\n",
    "\n",
    "(Z_res.sum() <= 5)"
   ]
  },
  {
   "cell_type": "code",
   "execution_count": 89,
   "id": "9240f3a4",
   "metadata": {},
   "outputs": [
    {
     "data": {
      "text/plain": [
       "4427612.8"
      ]
     },
     "execution_count": 89,
     "metadata": {},
     "output_type": "execute_result"
    }
   ],
   "source": [
    "# At least 80% of the total forecasted biomass must be processed by refineries each year.\n",
    "(B_res.sum() >= (0.8 * UB.sum()))"
   ]
  },
  {
   "cell_type": "code",
   "execution_count": 90,
   "id": "fb929981",
   "metadata": {},
   "outputs": [
    {
     "data": {
      "text/plain": [
       "4083874.999369733"
      ]
     },
     "execution_count": 90,
     "metadata": {},
     "output_type": "execute_result"
    }
   ],
   "source": [
    "# Total amount of biomass entering each preprocessing depot is equal to the total amount of\n",
    "# pellets exiting that depot (within tolerance limit of 1e-03).\n",
    "\n",
    "(B_res.sum() - P_res.sum()) <= 0.001 "
   ]
  },
  {
   "cell_type": "markdown",
   "id": "a2ff7c0c",
   "metadata": {},
   "source": [
    "# Objective estimates"
   ]
  },
  {
   "cell_type": "code",
   "execution_count": 92,
   "id": "73359893",
   "metadata": {},
   "outputs": [
    {
     "data": {
      "text/plain": [
       "True"
      ]
     },
     "execution_count": 92,
     "metadata": {},
     "output_type": "execute_result"
    }
   ],
   "source": [
    "residual1 = (Y_res.sum()*4000 - B_sum.sum())"
   ]
  },
  {
   "cell_type": "code",
   "execution_count": 93,
   "id": "ad7a139e",
   "metadata": {},
   "outputs": [
    {
     "data": {
      "text/plain": [
       "43524.8"
      ]
     },
     "execution_count": 93,
     "metadata": {},
     "output_type": "execute_result"
    }
   ],
   "source": [
    "residual2 = (Z_res.sum()*20000 - P_sum.sum())"
   ]
  },
  {
   "cell_type": "code",
   "execution_count": 94,
   "id": "c73bb684",
   "metadata": {},
   "outputs": [
    {
     "data": {
      "text/plain": [
       "43524.8"
      ]
     },
     "execution_count": 94,
     "metadata": {},
     "output_type": "execute_result"
    }
   ],
   "source": [
    "transcost = (DistanceB*B_res).sum() + (DistanceP*P_res).sum()"
   ]
  },
  {
   "cell_type": "code",
   "execution_count": 104,
   "id": "a372820a",
   "metadata": {},
   "outputs": [],
   "source": [
    "estobj = residual1 + residual2 + transcost"
   ]
  },
  {
   "cell_type": "code",
   "execution_count": 105,
   "id": "01f4a0e8",
   "metadata": {},
   "outputs": [],
   "source": [
    "estobj - obj.getValue()"
   ]
  },
  {
   "cell_type": "markdown",
   "id": "3e9f60c8",
   "metadata": {},
   "source": [
    "# Final output"
   ]
  },
  {
   "cell_type": "code",
   "execution_count": null,
   "id": "cd54342c",
   "metadata": {},
   "outputs": [],
   "source": [
    "pd.DataFrame(Y_res).to_csv(\"Depots.csv\",index = False, columns = [\"Loc\"])\n",
    "pd.DataFrame(Z_res).to_csv(\"Refineries.csv\",index = False , columns = [\"Loc\"])"
   ]
  }
 ],
 "metadata": {
  "kernelspec": {
   "display_name": "Python 3 (ipykernel)",
   "language": "python",
   "name": "python3"
  },
  "language_info": {
   "codemirror_mode": {
    "name": "ipython",
    "version": 3
   },
   "file_extension": ".py",
   "mimetype": "text/x-python",
   "name": "python",
   "nbconvert_exporter": "python",
   "pygments_lexer": "ipython3",
   "version": "3.9.13"
  }
 },
 "nbformat": 4,
 "nbformat_minor": 5
}
