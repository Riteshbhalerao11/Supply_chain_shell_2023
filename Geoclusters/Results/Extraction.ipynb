{
 "cells": [
  {
   "cell_type": "code",
   "execution_count": 1,
   "id": "e5446961",
   "metadata": {},
   "outputs": [],
   "source": [
    "import pandas as pd\n",
    "import numpy as np"
   ]
  },
  {
   "cell_type": "code",
   "execution_count": 2,
   "id": "3bd48cb4",
   "metadata": {},
   "outputs": [],
   "source": [
    "df_11 = pd.read_csv(\"Depots_11.csv\")"
   ]
  },
  {
   "cell_type": "code",
   "execution_count": 3,
   "id": "2b876220",
   "metadata": {},
   "outputs": [],
   "source": [
    "bio_11 = pd.read_csv(\"Depots_11_values.csv\")"
   ]
  },
  {
   "cell_type": "code",
   "execution_count": 4,
   "id": "b51849b8",
   "metadata": {},
   "outputs": [],
   "source": [
    "inds = pd.DataFrame(bio_11.columns.tolist())"
   ]
  },
  {
   "cell_type": "code",
   "execution_count": 5,
   "id": "03ffce12",
   "metadata": {},
   "outputs": [],
   "source": [
    "df_11[\"Index\"] = inds"
   ]
  },
  {
   "cell_type": "code",
   "execution_count": 6,
   "id": "be6e6ca9",
   "metadata": {},
   "outputs": [
    {
     "data": {
      "text/html": [
       "<div>\n",
       "<style scoped>\n",
       "    .dataframe tbody tr th:only-of-type {\n",
       "        vertical-align: middle;\n",
       "    }\n",
       "\n",
       "    .dataframe tbody tr th {\n",
       "        vertical-align: top;\n",
       "    }\n",
       "\n",
       "    .dataframe thead th {\n",
       "        text-align: right;\n",
       "    }\n",
       "</style>\n",
       "<table border=\"1\" class=\"dataframe\">\n",
       "  <thead>\n",
       "    <tr style=\"text-align: right;\">\n",
       "      <th></th>\n",
       "      <th>Loc</th>\n",
       "      <th>Index</th>\n",
       "    </tr>\n",
       "  </thead>\n",
       "  <tbody>\n",
       "    <tr>\n",
       "      <th>0</th>\n",
       "      <td>0</td>\n",
       "      <td>1596</td>\n",
       "    </tr>\n",
       "    <tr>\n",
       "      <th>1</th>\n",
       "      <td>0</td>\n",
       "      <td>1597</td>\n",
       "    </tr>\n",
       "    <tr>\n",
       "      <th>2</th>\n",
       "      <td>0</td>\n",
       "      <td>1598</td>\n",
       "    </tr>\n",
       "    <tr>\n",
       "      <th>3</th>\n",
       "      <td>0</td>\n",
       "      <td>1655</td>\n",
       "    </tr>\n",
       "    <tr>\n",
       "      <th>4</th>\n",
       "      <td>0</td>\n",
       "      <td>1656</td>\n",
       "    </tr>\n",
       "    <tr>\n",
       "      <th>...</th>\n",
       "      <td>...</td>\n",
       "      <td>...</td>\n",
       "    </tr>\n",
       "    <tr>\n",
       "      <th>355</th>\n",
       "      <td>0</td>\n",
       "      <td>2413</td>\n",
       "    </tr>\n",
       "    <tr>\n",
       "      <th>356</th>\n",
       "      <td>0</td>\n",
       "      <td>2414</td>\n",
       "    </tr>\n",
       "    <tr>\n",
       "      <th>357</th>\n",
       "      <td>0</td>\n",
       "      <td>2415</td>\n",
       "    </tr>\n",
       "    <tr>\n",
       "      <th>358</th>\n",
       "      <td>0</td>\n",
       "      <td>2416</td>\n",
       "    </tr>\n",
       "    <tr>\n",
       "      <th>359</th>\n",
       "      <td>0</td>\n",
       "      <td>2417</td>\n",
       "    </tr>\n",
       "  </tbody>\n",
       "</table>\n",
       "<p>360 rows × 2 columns</p>\n",
       "</div>"
      ],
      "text/plain": [
       "     Loc Index\n",
       "0      0  1596\n",
       "1      0  1597\n",
       "2      0  1598\n",
       "3      0  1655\n",
       "4      0  1656\n",
       "..   ...   ...\n",
       "355    0  2413\n",
       "356    0  2414\n",
       "357    0  2415\n",
       "358    0  2416\n",
       "359    0  2417\n",
       "\n",
       "[360 rows x 2 columns]"
      ]
     },
     "execution_count": 6,
     "metadata": {},
     "output_type": "execute_result"
    }
   ],
   "source": [
    "df_11"
   ]
  },
  {
   "cell_type": "code",
   "execution_count": 7,
   "id": "cb45ea4c",
   "metadata": {},
   "outputs": [],
   "source": [
    "Biomass = pd.DataFrame(bio_11.sum(axis = 0).tolist())"
   ]
  },
  {
   "cell_type": "code",
   "execution_count": 8,
   "id": "6721a38a",
   "metadata": {},
   "outputs": [],
   "source": [
    "df_11[\"Biomass\"] = Biomass"
   ]
  },
  {
   "cell_type": "code",
   "execution_count": 9,
   "id": "51e5e927",
   "metadata": {},
   "outputs": [],
   "source": [
    "df_11 = df_11[df_11[\"Loc\"] == 1]"
   ]
  },
  {
   "cell_type": "code",
   "execution_count": 10,
   "id": "f837b919",
   "metadata": {},
   "outputs": [
    {
     "data": {
      "text/html": [
       "<div>\n",
       "<style scoped>\n",
       "    .dataframe tbody tr th:only-of-type {\n",
       "        vertical-align: middle;\n",
       "    }\n",
       "\n",
       "    .dataframe tbody tr th {\n",
       "        vertical-align: top;\n",
       "    }\n",
       "\n",
       "    .dataframe thead th {\n",
       "        text-align: right;\n",
       "    }\n",
       "</style>\n",
       "<table border=\"1\" class=\"dataframe\">\n",
       "  <thead>\n",
       "    <tr style=\"text-align: right;\">\n",
       "      <th></th>\n",
       "      <th>Loc</th>\n",
       "      <th>Index</th>\n",
       "      <th>Biomass</th>\n",
       "    </tr>\n",
       "  </thead>\n",
       "  <tbody>\n",
       "    <tr>\n",
       "      <th>122</th>\n",
       "      <td>1</td>\n",
       "      <td>2069</td>\n",
       "      <td>11241.008662</td>\n",
       "    </tr>\n",
       "    <tr>\n",
       "      <th>168</th>\n",
       "      <td>1</td>\n",
       "      <td>2133</td>\n",
       "      <td>20000.000003</td>\n",
       "    </tr>\n",
       "  </tbody>\n",
       "</table>\n",
       "</div>"
      ],
      "text/plain": [
       "     Loc Index       Biomass\n",
       "122    1  2069  11241.008662\n",
       "168    1  2133  20000.000003"
      ]
     },
     "execution_count": 10,
     "metadata": {},
     "output_type": "execute_result"
    }
   ],
   "source": [
    "df_11"
   ]
  },
  {
   "cell_type": "code",
   "execution_count": 11,
   "id": "247f4069",
   "metadata": {},
   "outputs": [],
   "source": [
    "df_12 = pd.read_csv(\"Depots_12.csv\")"
   ]
  },
  {
   "cell_type": "code",
   "execution_count": 12,
   "id": "d46be385",
   "metadata": {},
   "outputs": [],
   "source": [
    "bio_12 = pd.read_csv(\"Depots_12_values.csv\")"
   ]
  },
  {
   "cell_type": "code",
   "execution_count": 13,
   "id": "c028ab10",
   "metadata": {},
   "outputs": [],
   "source": [
    "inds = pd.DataFrame(bio_12.columns.tolist())\n",
    "df_12[\"Index\"] = inds\n",
    "Biomass = pd.DataFrame(bio_12.sum(axis = 0).tolist())"
   ]
  },
  {
   "cell_type": "code",
   "execution_count": 14,
   "id": "4b3c0838",
   "metadata": {},
   "outputs": [
    {
     "data": {
      "text/html": [
       "<div>\n",
       "<style scoped>\n",
       "    .dataframe tbody tr th:only-of-type {\n",
       "        vertical-align: middle;\n",
       "    }\n",
       "\n",
       "    .dataframe tbody tr th {\n",
       "        vertical-align: top;\n",
       "    }\n",
       "\n",
       "    .dataframe thead th {\n",
       "        text-align: right;\n",
       "    }\n",
       "</style>\n",
       "<table border=\"1\" class=\"dataframe\">\n",
       "  <thead>\n",
       "    <tr style=\"text-align: right;\">\n",
       "      <th></th>\n",
       "      <th>Loc</th>\n",
       "      <th>Index</th>\n",
       "      <th>Biomass</th>\n",
       "    </tr>\n",
       "  </thead>\n",
       "  <tbody>\n",
       "    <tr>\n",
       "      <th>77</th>\n",
       "      <td>1</td>\n",
       "      <td>1341</td>\n",
       "      <td>17951.287498</td>\n",
       "    </tr>\n",
       "    <tr>\n",
       "      <th>174</th>\n",
       "      <td>1</td>\n",
       "      <td>1759</td>\n",
       "      <td>14780.734885</td>\n",
       "    </tr>\n",
       "    <tr>\n",
       "      <th>197</th>\n",
       "      <td>1</td>\n",
       "      <td>1860</td>\n",
       "      <td>20000.000004</td>\n",
       "    </tr>\n",
       "  </tbody>\n",
       "</table>\n",
       "</div>"
      ],
      "text/plain": [
       "     Loc Index       Biomass\n",
       "77     1  1341  17951.287498\n",
       "174    1  1759  14780.734885\n",
       "197    1  1860  20000.000004"
      ]
     },
     "execution_count": 14,
     "metadata": {},
     "output_type": "execute_result"
    }
   ],
   "source": [
    "df_12[\"Biomass\"] = Biomass\n",
    "df_12 = df_12[df_12[\"Loc\"] == 1]\n",
    "df_12"
   ]
  },
  {
   "cell_type": "code",
   "execution_count": 15,
   "id": "c9bf647d",
   "metadata": {},
   "outputs": [],
   "source": [
    "df_2 = pd.read_csv(\"Depots_2.csv\")"
   ]
  },
  {
   "cell_type": "code",
   "execution_count": 16,
   "id": "0e25929a",
   "metadata": {},
   "outputs": [],
   "source": [
    "bio_2 = pd.read_csv(\"Depots_2_values.csv\")"
   ]
  },
  {
   "cell_type": "code",
   "execution_count": 17,
   "id": "54a2e4ff",
   "metadata": {},
   "outputs": [],
   "source": [
    "inds = pd.DataFrame(bio_2.columns.tolist())\n",
    "df_2[\"Index\"] = inds\n",
    "Biomass = pd.DataFrame(bio_2.sum(axis = 0).tolist())"
   ]
  },
  {
   "cell_type": "code",
   "execution_count": 18,
   "id": "2f82c551",
   "metadata": {},
   "outputs": [
    {
     "data": {
      "text/html": [
       "<div>\n",
       "<style scoped>\n",
       "    .dataframe tbody tr th:only-of-type {\n",
       "        vertical-align: middle;\n",
       "    }\n",
       "\n",
       "    .dataframe tbody tr th {\n",
       "        vertical-align: top;\n",
       "    }\n",
       "\n",
       "    .dataframe thead th {\n",
       "        text-align: right;\n",
       "    }\n",
       "</style>\n",
       "<table border=\"1\" class=\"dataframe\">\n",
       "  <thead>\n",
       "    <tr style=\"text-align: right;\">\n",
       "      <th></th>\n",
       "      <th>Loc</th>\n",
       "      <th>Index</th>\n",
       "      <th>Biomass</th>\n",
       "    </tr>\n",
       "  </thead>\n",
       "  <tbody>\n",
       "    <tr>\n",
       "      <th>145</th>\n",
       "      <td>1</td>\n",
       "      <td>985</td>\n",
       "      <td>19999.999996</td>\n",
       "    </tr>\n",
       "  </tbody>\n",
       "</table>\n",
       "</div>"
      ],
      "text/plain": [
       "     Loc Index       Biomass\n",
       "145    1   985  19999.999996"
      ]
     },
     "execution_count": 18,
     "metadata": {},
     "output_type": "execute_result"
    }
   ],
   "source": [
    "df_2[\"Biomass\"] = Biomass\n",
    "df_2 = df_2[df_2[\"Loc\"] == 1]\n",
    "df_2"
   ]
  },
  {
   "cell_type": "code",
   "execution_count": 19,
   "id": "c675dd07",
   "metadata": {},
   "outputs": [
    {
     "data": {
      "text/html": [
       "<div>\n",
       "<style scoped>\n",
       "    .dataframe tbody tr th:only-of-type {\n",
       "        vertical-align: middle;\n",
       "    }\n",
       "\n",
       "    .dataframe tbody tr th {\n",
       "        vertical-align: top;\n",
       "    }\n",
       "\n",
       "    .dataframe thead th {\n",
       "        text-align: right;\n",
       "    }\n",
       "</style>\n",
       "<table border=\"1\" class=\"dataframe\">\n",
       "  <thead>\n",
       "    <tr style=\"text-align: right;\">\n",
       "      <th></th>\n",
       "      <th>Loc</th>\n",
       "      <th>Index</th>\n",
       "      <th>Biomass</th>\n",
       "    </tr>\n",
       "  </thead>\n",
       "  <tbody>\n",
       "    <tr>\n",
       "      <th>36</th>\n",
       "      <td>1</td>\n",
       "      <td>1004</td>\n",
       "      <td>11970.297700</td>\n",
       "    </tr>\n",
       "    <tr>\n",
       "      <th>134</th>\n",
       "      <td>1</td>\n",
       "      <td>1609</td>\n",
       "      <td>10714.950869</td>\n",
       "    </tr>\n",
       "    <tr>\n",
       "      <th>166</th>\n",
       "      <td>1</td>\n",
       "      <td>1717</td>\n",
       "      <td>13257.065347</td>\n",
       "    </tr>\n",
       "    <tr>\n",
       "      <th>341</th>\n",
       "      <td>1</td>\n",
       "      <td>2187</td>\n",
       "      <td>14933.310368</td>\n",
       "    </tr>\n",
       "  </tbody>\n",
       "</table>\n",
       "</div>"
      ],
      "text/plain": [
       "     Loc Index       Biomass\n",
       "36     1  1004  11970.297700\n",
       "134    1  1609  10714.950869\n",
       "166    1  1717  13257.065347\n",
       "341    1  2187  14933.310368"
      ]
     },
     "execution_count": 19,
     "metadata": {},
     "output_type": "execute_result"
    }
   ],
   "source": [
    "df_6 = pd.read_csv(\"Depots_6.csv\")\n",
    "bio_6 = pd.read_csv(\"Depots_6_values.csv\")\n",
    "inds = pd.DataFrame(bio_6.columns.tolist())\n",
    "df_6[\"Index\"] = inds\n",
    "Biomass = pd.DataFrame(bio_6.sum(axis = 0).tolist())\n",
    "df_6[\"Biomass\"] = Biomass\n",
    "df_6 = df_6[df_6[\"Loc\"] == 1]\n",
    "df_6"
   ]
  },
  {
   "cell_type": "code",
   "execution_count": 20,
   "id": "76f7baef",
   "metadata": {},
   "outputs": [
    {
     "data": {
      "text/html": [
       "<div>\n",
       "<style scoped>\n",
       "    .dataframe tbody tr th:only-of-type {\n",
       "        vertical-align: middle;\n",
       "    }\n",
       "\n",
       "    .dataframe tbody tr th {\n",
       "        vertical-align: top;\n",
       "    }\n",
       "\n",
       "    .dataframe thead th {\n",
       "        text-align: right;\n",
       "    }\n",
       "</style>\n",
       "<table border=\"1\" class=\"dataframe\">\n",
       "  <thead>\n",
       "    <tr style=\"text-align: right;\">\n",
       "      <th></th>\n",
       "      <th>Loc</th>\n",
       "      <th>Index</th>\n",
       "      <th>Biomass</th>\n",
       "    </tr>\n",
       "  </thead>\n",
       "  <tbody>\n",
       "    <tr>\n",
       "      <th>201</th>\n",
       "      <td>1</td>\n",
       "      <td>1203</td>\n",
       "      <td>9267.783405</td>\n",
       "    </tr>\n",
       "    <tr>\n",
       "      <th>240</th>\n",
       "      <td>1</td>\n",
       "      <td>1521</td>\n",
       "      <td>10732.216591</td>\n",
       "    </tr>\n",
       "  </tbody>\n",
       "</table>\n",
       "</div>"
      ],
      "text/plain": [
       "     Loc Index       Biomass\n",
       "201    1  1203   9267.783405\n",
       "240    1  1521  10732.216591"
      ]
     },
     "execution_count": 20,
     "metadata": {},
     "output_type": "execute_result"
    }
   ],
   "source": [
    "df_31 = pd.read_csv(\"Depots_31.csv\")\n",
    "bio_31 = pd.read_csv(\"Depots_31_values.csv\")\n",
    "inds = pd.DataFrame(bio_31.columns.tolist())\n",
    "df_31[\"Index\"] = inds\n",
    "Biomass = pd.DataFrame(bio_31.sum(axis = 0).tolist())\n",
    "df_31[\"Biomass\"] = Biomass\n",
    "df_31 = df_31[df_31[\"Loc\"] == 1]\n",
    "df_31"
   ]
  },
  {
   "cell_type": "code",
   "execution_count": 21,
   "id": "b1d0cccc",
   "metadata": {},
   "outputs": [
    {
     "data": {
      "text/html": [
       "<div>\n",
       "<style scoped>\n",
       "    .dataframe tbody tr th:only-of-type {\n",
       "        vertical-align: middle;\n",
       "    }\n",
       "\n",
       "    .dataframe tbody tr th {\n",
       "        vertical-align: top;\n",
       "    }\n",
       "\n",
       "    .dataframe thead th {\n",
       "        text-align: right;\n",
       "    }\n",
       "</style>\n",
       "<table border=\"1\" class=\"dataframe\">\n",
       "  <thead>\n",
       "    <tr style=\"text-align: right;\">\n",
       "      <th></th>\n",
       "      <th>Loc</th>\n",
       "      <th>Index</th>\n",
       "      <th>Biomass</th>\n",
       "    </tr>\n",
       "  </thead>\n",
       "  <tbody>\n",
       "    <tr>\n",
       "      <th>73</th>\n",
       "      <td>1</td>\n",
       "      <td>1390</td>\n",
       "      <td>15417.926058</td>\n",
       "    </tr>\n",
       "    <tr>\n",
       "      <th>181</th>\n",
       "      <td>1</td>\n",
       "      <td>1743</td>\n",
       "      <td>14894.034410</td>\n",
       "    </tr>\n",
       "  </tbody>\n",
       "</table>\n",
       "</div>"
      ],
      "text/plain": [
       "     Loc Index       Biomass\n",
       "73     1  1390  15417.926058\n",
       "181    1  1743  14894.034410"
      ]
     },
     "execution_count": 21,
     "metadata": {},
     "output_type": "execute_result"
    }
   ],
   "source": [
    "df_32 = pd.read_csv(\"Depots_32.csv\")\n",
    "bio_32 = pd.read_csv(\"Depots_32_values.csv\")\n",
    "inds = pd.DataFrame(bio_32.columns.tolist())\n",
    "df_32[\"Index\"] = inds\n",
    "Biomass = pd.DataFrame(bio_32.sum(axis = 0).tolist())\n",
    "df_32[\"Biomass\"] = Biomass\n",
    "df_32 = df_32[df_32[\"Loc\"] == 1]\n",
    "df_32"
   ]
  },
  {
   "cell_type": "code",
   "execution_count": 22,
   "id": "019ccd0c",
   "metadata": {},
   "outputs": [
    {
     "data": {
      "text/html": [
       "<div>\n",
       "<style scoped>\n",
       "    .dataframe tbody tr th:only-of-type {\n",
       "        vertical-align: middle;\n",
       "    }\n",
       "\n",
       "    .dataframe tbody tr th {\n",
       "        vertical-align: top;\n",
       "    }\n",
       "\n",
       "    .dataframe thead th {\n",
       "        text-align: right;\n",
       "    }\n",
       "</style>\n",
       "<table border=\"1\" class=\"dataframe\">\n",
       "  <thead>\n",
       "    <tr style=\"text-align: right;\">\n",
       "      <th></th>\n",
       "      <th>Loc</th>\n",
       "      <th>Index</th>\n",
       "      <th>Biomass</th>\n",
       "    </tr>\n",
       "  </thead>\n",
       "  <tbody>\n",
       "    <tr>\n",
       "      <th>95</th>\n",
       "      <td>1</td>\n",
       "      <td>102</td>\n",
       "      <td>17888.585402</td>\n",
       "    </tr>\n",
       "    <tr>\n",
       "      <th>247</th>\n",
       "      <td>1</td>\n",
       "      <td>486</td>\n",
       "      <td>13679.526204</td>\n",
       "    </tr>\n",
       "  </tbody>\n",
       "</table>\n",
       "</div>"
      ],
      "text/plain": [
       "     Loc Index       Biomass\n",
       "95     1   102  17888.585402\n",
       "247    1   486  13679.526204"
      ]
     },
     "execution_count": 22,
     "metadata": {},
     "output_type": "execute_result"
    }
   ],
   "source": [
    "df_4 = pd.read_csv(\"Depots_4.csv\")\n",
    "bio_4 = pd.read_csv(\"Depots_4_values.csv\")\n",
    "inds = pd.DataFrame(bio_4.columns.tolist())\n",
    "df_4[\"Index\"] = inds\n",
    "Biomass = pd.DataFrame(bio_4.sum(axis = 0).tolist())\n",
    "df_4[\"Biomass\"] = Biomass\n",
    "df_4 = df_4[df_4[\"Loc\"] == 1]\n",
    "df_4"
   ]
  },
  {
   "cell_type": "code",
   "execution_count": 23,
   "id": "a78ae36a",
   "metadata": {},
   "outputs": [
    {
     "data": {
      "text/html": [
       "<div>\n",
       "<style scoped>\n",
       "    .dataframe tbody tr th:only-of-type {\n",
       "        vertical-align: middle;\n",
       "    }\n",
       "\n",
       "    .dataframe tbody tr th {\n",
       "        vertical-align: top;\n",
       "    }\n",
       "\n",
       "    .dataframe thead th {\n",
       "        text-align: right;\n",
       "    }\n",
       "</style>\n",
       "<table border=\"1\" class=\"dataframe\">\n",
       "  <thead>\n",
       "    <tr style=\"text-align: right;\">\n",
       "      <th></th>\n",
       "      <th>Loc</th>\n",
       "      <th>Index</th>\n",
       "      <th>Biomass</th>\n",
       "    </tr>\n",
       "  </thead>\n",
       "  <tbody>\n",
       "    <tr>\n",
       "      <th>162</th>\n",
       "      <td>1</td>\n",
       "      <td>1011</td>\n",
       "      <td>18604.812593</td>\n",
       "    </tr>\n",
       "    <tr>\n",
       "      <th>260</th>\n",
       "      <td>1</td>\n",
       "      <td>1238</td>\n",
       "      <td>18599.215356</td>\n",
       "    </tr>\n",
       "  </tbody>\n",
       "</table>\n",
       "</div>"
      ],
      "text/plain": [
       "     Loc Index       Biomass\n",
       "162    1  1011  18604.812593\n",
       "260    1  1238  18599.215356"
      ]
     },
     "execution_count": 23,
     "metadata": {},
     "output_type": "execute_result"
    }
   ],
   "source": [
    "df_51 = pd.read_csv(\"Depots_51.csv\")\n",
    "bio_51 = pd.read_csv(\"Depots_51_values.csv\")\n",
    "inds = pd.DataFrame(bio_51.columns.tolist())\n",
    "df_51[\"Index\"] = inds\n",
    "Biomass = pd.DataFrame(bio_51.sum(axis = 0).tolist())\n",
    "df_51[\"Biomass\"] = Biomass\n",
    "df_51 = df_51[df_51[\"Loc\"] == 1]\n",
    "df_51"
   ]
  },
  {
   "cell_type": "code",
   "execution_count": 24,
   "id": "9b655ce3",
   "metadata": {},
   "outputs": [
    {
     "data": {
      "text/html": [
       "<div>\n",
       "<style scoped>\n",
       "    .dataframe tbody tr th:only-of-type {\n",
       "        vertical-align: middle;\n",
       "    }\n",
       "\n",
       "    .dataframe tbody tr th {\n",
       "        vertical-align: top;\n",
       "    }\n",
       "\n",
       "    .dataframe thead th {\n",
       "        text-align: right;\n",
       "    }\n",
       "</style>\n",
       "<table border=\"1\" class=\"dataframe\">\n",
       "  <thead>\n",
       "    <tr style=\"text-align: right;\">\n",
       "      <th></th>\n",
       "      <th>Loc</th>\n",
       "      <th>Index</th>\n",
       "      <th>Biomass</th>\n",
       "    </tr>\n",
       "  </thead>\n",
       "  <tbody>\n",
       "    <tr>\n",
       "      <th>92</th>\n",
       "      <td>1</td>\n",
       "      <td>394</td>\n",
       "      <td>19545.132849</td>\n",
       "    </tr>\n",
       "  </tbody>\n",
       "</table>\n",
       "</div>"
      ],
      "text/plain": [
       "    Loc Index       Biomass\n",
       "92    1   394  19545.132849"
      ]
     },
     "execution_count": 24,
     "metadata": {},
     "output_type": "execute_result"
    }
   ],
   "source": [
    "df_52 = pd.read_csv(\"Depots_52.csv\")\n",
    "bio_52 = pd.read_csv(\"Depots_52_values.csv\")\n",
    "inds = pd.DataFrame(bio_52.columns.tolist())\n",
    "df_52[\"Index\"] = inds\n",
    "Biomass = pd.DataFrame(bio_52.sum(axis = 0).tolist())\n",
    "df_52[\"Biomass\"] = Biomass\n",
    "df_52 = df_52[df_52[\"Loc\"] == 1]\n",
    "df_52"
   ]
  },
  {
   "cell_type": "code",
   "execution_count": 33,
   "id": "362c6c1c",
   "metadata": {},
   "outputs": [],
   "source": [
    "sorted_biomass = pd.concat([df_11,df_12,df_2,df_31,df_32,df_4,df_51,df_52,df_6])"
   ]
  },
  {
   "cell_type": "code",
   "execution_count": 44,
   "id": "d289efe2",
   "metadata": {},
   "outputs": [],
   "source": [
    "sorted_biomass.drop(columns=[\"Loc\"],inplace=True)"
   ]
  },
  {
   "cell_type": "code",
   "execution_count": 46,
   "id": "b2bb2547",
   "metadata": {},
   "outputs": [],
   "source": [
    "sorted_biomass[\"Index\"] = sorted_biomass[\"Index\"].astype(int)"
   ]
  },
  {
   "cell_type": "code",
   "execution_count": 48,
   "id": "ca495b47",
   "metadata": {},
   "outputs": [],
   "source": [
    "sorted_biomass.sort_values(by = \"Index\",inplace=True)"
   ]
  },
  {
   "cell_type": "code",
   "execution_count": 50,
   "id": "cd1935de",
   "metadata": {},
   "outputs": [],
   "source": [
    "sorted_biomass.to_csv(\"Sorted_biomass.csv\",index=False)"
   ]
  },
  {
   "cell_type": "code",
   "execution_count": null,
   "id": "51bae7eb",
   "metadata": {},
   "outputs": [],
   "source": []
  }
 ],
 "metadata": {
  "kernelspec": {
   "display_name": "Python 3 (ipykernel)",
   "language": "python",
   "name": "python3"
  },
  "language_info": {
   "codemirror_mode": {
    "name": "ipython",
    "version": 3
   },
   "file_extension": ".py",
   "mimetype": "text/x-python",
   "name": "python",
   "nbconvert_exporter": "python",
   "pygments_lexer": "ipython3",
   "version": "3.9.13"
  }
 },
 "nbformat": 4,
 "nbformat_minor": 5
}
