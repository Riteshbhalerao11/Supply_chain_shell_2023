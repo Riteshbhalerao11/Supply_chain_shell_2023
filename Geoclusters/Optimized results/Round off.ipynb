{
 "cells": [
  {
   "cell_type": "code",
   "execution_count": 325,
   "id": "081314b5",
   "metadata": {},
   "outputs": [],
   "source": [
    "import pandas as pd\n",
    "import numpy as np"
   ]
  },
  {
   "cell_type": "code",
   "execution_count": 457,
   "id": "148240fc",
   "metadata": {},
   "outputs": [],
   "source": [
    "df_depot = pd.read_csv(\"18SBiomass_supply.csv\")"
   ]
  },
  {
   "cell_type": "code",
   "execution_count": 458,
   "id": "df708fa7",
   "metadata": {},
   "outputs": [
    {
     "data": {
      "text/plain": [
       "(1618, 3)"
      ]
     },
     "execution_count": 458,
     "metadata": {},
     "output_type": "execute_result"
    }
   ],
   "source": [
    "df_depot.shape"
   ]
  },
  {
   "cell_type": "code",
   "execution_count": 459,
   "id": "9b4dc13d",
   "metadata": {},
   "outputs": [
    {
     "data": {
      "text/html": [
       "<div>\n",
       "<style scoped>\n",
       "    .dataframe tbody tr th:only-of-type {\n",
       "        vertical-align: middle;\n",
       "    }\n",
       "\n",
       "    .dataframe tbody tr th {\n",
       "        vertical-align: top;\n",
       "    }\n",
       "\n",
       "    .dataframe thead th {\n",
       "        text-align: right;\n",
       "    }\n",
       "</style>\n",
       "<table border=\"1\" class=\"dataframe\">\n",
       "  <thead>\n",
       "    <tr style=\"text-align: right;\">\n",
       "      <th></th>\n",
       "      <th>Source</th>\n",
       "      <th>Destination</th>\n",
       "      <th>Value</th>\n",
       "    </tr>\n",
       "  </thead>\n",
       "  <tbody>\n",
       "    <tr>\n",
       "      <th>0</th>\n",
       "      <td>0</td>\n",
       "      <td>102</td>\n",
       "      <td>6.262531</td>\n",
       "    </tr>\n",
       "    <tr>\n",
       "      <th>1</th>\n",
       "      <td>1</td>\n",
       "      <td>102</td>\n",
       "      <td>37.362860</td>\n",
       "    </tr>\n",
       "    <tr>\n",
       "      <th>2</th>\n",
       "      <td>2</td>\n",
       "      <td>102</td>\n",
       "      <td>67.924084</td>\n",
       "    </tr>\n",
       "    <tr>\n",
       "      <th>3</th>\n",
       "      <td>3</td>\n",
       "      <td>102</td>\n",
       "      <td>93.080531</td>\n",
       "    </tr>\n",
       "    <tr>\n",
       "      <th>4</th>\n",
       "      <td>4</td>\n",
       "      <td>102</td>\n",
       "      <td>22.703812</td>\n",
       "    </tr>\n",
       "    <tr>\n",
       "      <th>...</th>\n",
       "      <td>...</td>\n",
       "      <td>...</td>\n",
       "      <td>...</td>\n",
       "    </tr>\n",
       "    <tr>\n",
       "      <th>1613</th>\n",
       "      <td>2315</td>\n",
       "      <td>2133</td>\n",
       "      <td>21.432194</td>\n",
       "    </tr>\n",
       "    <tr>\n",
       "      <th>1614</th>\n",
       "      <td>2334</td>\n",
       "      <td>2133</td>\n",
       "      <td>5.910237</td>\n",
       "    </tr>\n",
       "    <tr>\n",
       "      <th>1615</th>\n",
       "      <td>2335</td>\n",
       "      <td>2133</td>\n",
       "      <td>20.417439</td>\n",
       "    </tr>\n",
       "    <tr>\n",
       "      <th>1616</th>\n",
       "      <td>2336</td>\n",
       "      <td>2133</td>\n",
       "      <td>8.415410</td>\n",
       "    </tr>\n",
       "    <tr>\n",
       "      <th>1617</th>\n",
       "      <td>2337</td>\n",
       "      <td>2133</td>\n",
       "      <td>1.570685</td>\n",
       "    </tr>\n",
       "  </tbody>\n",
       "</table>\n",
       "<p>1618 rows × 3 columns</p>\n",
       "</div>"
      ],
      "text/plain": [
       "      Source  Destination      Value\n",
       "0          0          102   6.262531\n",
       "1          1          102  37.362860\n",
       "2          2          102  67.924084\n",
       "3          3          102  93.080531\n",
       "4          4          102  22.703812\n",
       "...      ...          ...        ...\n",
       "1613    2315         2133  21.432194\n",
       "1614    2334         2133   5.910237\n",
       "1615    2335         2133  20.417439\n",
       "1616    2336         2133   8.415410\n",
       "1617    2337         2133   1.570685\n",
       "\n",
       "[1618 rows x 3 columns]"
      ]
     },
     "execution_count": 459,
     "metadata": {},
     "output_type": "execute_result"
    }
   ],
   "source": [
    "df_depot"
   ]
  },
  {
   "cell_type": "code",
   "execution_count": 460,
   "id": "51425364",
   "metadata": {},
   "outputs": [],
   "source": [
    "hlist = list(set(df_depot[\"Source\"]))\n",
    "blist  = list(set(df_depot[\"Destination\"]))"
   ]
  },
  {
   "cell_type": "code",
   "execution_count": 461,
   "id": "287b6eee",
   "metadata": {},
   "outputs": [],
   "source": [
    "def common_member(a, b):\n",
    "    a_set = set(a)\n",
    "    b_set = set(b)\n",
    "    if len(a_set.intersection(b_set)) > 0:\n",
    "        return(True)\n",
    "    return(False) "
   ]
  },
  {
   "cell_type": "code",
   "execution_count": 462,
   "id": "4616446a",
   "metadata": {},
   "outputs": [
    {
     "data": {
      "text/plain": [
       "False"
      ]
     },
     "execution_count": 462,
     "metadata": {},
     "output_type": "execute_result"
    }
   ],
   "source": [
    "common_member(hlist,blist)"
   ]
  },
  {
   "cell_type": "code",
   "execution_count": 463,
   "id": "0b96d60a",
   "metadata": {},
   "outputs": [
    {
     "data": {
      "text/plain": [
       "15"
      ]
     },
     "execution_count": 463,
     "metadata": {},
     "output_type": "execute_result"
    }
   ],
   "source": [
    "len(blist)"
   ]
  },
  {
   "cell_type": "code",
   "execution_count": 464,
   "id": "4b0a5716",
   "metadata": {},
   "outputs": [
    {
     "data": {
      "text/plain": [
       "1605"
      ]
     },
     "execution_count": 464,
     "metadata": {},
     "output_type": "execute_result"
    }
   ],
   "source": [
    "len(hlist)"
   ]
  },
  {
   "cell_type": "code",
   "execution_count": 465,
   "id": "08dcade4",
   "metadata": {},
   "outputs": [],
   "source": [
    "res = []\n",
    "for i in hlist:\n",
    "    res.append([df_depot[df_depot[\"Source\"] == i][\"Source\"].tolist()[0],df_depot[df_depot[\"Source\"] == i][\"Value\"].sum()])"
   ]
  },
  {
   "cell_type": "code",
   "execution_count": 466,
   "id": "6efe6990",
   "metadata": {},
   "outputs": [],
   "source": [
    "esth = pd.DataFrame(np.array(res), columns = [\"Index\", \"Value\"])"
   ]
  },
  {
   "cell_type": "code",
   "execution_count": 467,
   "id": "0fe80fc8",
   "metadata": {},
   "outputs": [
    {
     "data": {
      "text/html": [
       "<div>\n",
       "<style scoped>\n",
       "    .dataframe tbody tr th:only-of-type {\n",
       "        vertical-align: middle;\n",
       "    }\n",
       "\n",
       "    .dataframe tbody tr th {\n",
       "        vertical-align: top;\n",
       "    }\n",
       "\n",
       "    .dataframe thead th {\n",
       "        text-align: right;\n",
       "    }\n",
       "</style>\n",
       "<table border=\"1\" class=\"dataframe\">\n",
       "  <thead>\n",
       "    <tr style=\"text-align: right;\">\n",
       "      <th></th>\n",
       "      <th>Index</th>\n",
       "      <th>Value</th>\n",
       "    </tr>\n",
       "  </thead>\n",
       "  <tbody>\n",
       "    <tr>\n",
       "      <th>0</th>\n",
       "      <td>0.0</td>\n",
       "      <td>6.262531</td>\n",
       "    </tr>\n",
       "    <tr>\n",
       "      <th>1</th>\n",
       "      <td>1.0</td>\n",
       "      <td>37.362860</td>\n",
       "    </tr>\n",
       "    <tr>\n",
       "      <th>2</th>\n",
       "      <td>2.0</td>\n",
       "      <td>67.924084</td>\n",
       "    </tr>\n",
       "    <tr>\n",
       "      <th>3</th>\n",
       "      <td>3.0</td>\n",
       "      <td>93.080531</td>\n",
       "    </tr>\n",
       "    <tr>\n",
       "      <th>4</th>\n",
       "      <td>4.0</td>\n",
       "      <td>22.703812</td>\n",
       "    </tr>\n",
       "  </tbody>\n",
       "</table>\n",
       "</div>"
      ],
      "text/plain": [
       "   Index      Value\n",
       "0    0.0   6.262531\n",
       "1    1.0  37.362860\n",
       "2    2.0  67.924084\n",
       "3    3.0  93.080531\n",
       "4    4.0  22.703812"
      ]
     },
     "execution_count": 467,
     "metadata": {},
     "output_type": "execute_result"
    }
   ],
   "source": [
    "esth.head()"
   ]
  },
  {
   "cell_type": "code",
   "execution_count": 468,
   "id": "698b8bc2",
   "metadata": {},
   "outputs": [],
   "source": [
    "Biomass = pd.read_csv(\"D:\\Shell.ai\\Final_try\\pred_2019.csv\")[[\"Index\",\"2018\"]]"
   ]
  },
  {
   "cell_type": "code",
   "execution_count": 469,
   "id": "4e099bc0",
   "metadata": {},
   "outputs": [],
   "source": [
    "true =  Biomass.loc[hlist]"
   ]
  },
  {
   "cell_type": "code",
   "execution_count": 470,
   "id": "a010c2a0",
   "metadata": {},
   "outputs": [],
   "source": [
    "true.index = range(true.shape[0])"
   ]
  },
  {
   "cell_type": "code",
   "execution_count": 471,
   "id": "266a3b09",
   "metadata": {},
   "outputs": [
    {
     "data": {
      "text/html": [
       "<div>\n",
       "<style scoped>\n",
       "    .dataframe tbody tr th:only-of-type {\n",
       "        vertical-align: middle;\n",
       "    }\n",
       "\n",
       "    .dataframe tbody tr th {\n",
       "        vertical-align: top;\n",
       "    }\n",
       "\n",
       "    .dataframe thead th {\n",
       "        text-align: right;\n",
       "    }\n",
       "</style>\n",
       "<table border=\"1\" class=\"dataframe\">\n",
       "  <thead>\n",
       "    <tr style=\"text-align: right;\">\n",
       "      <th></th>\n",
       "      <th>Index</th>\n",
       "      <th>2018</th>\n",
       "    </tr>\n",
       "  </thead>\n",
       "  <tbody>\n",
       "    <tr>\n",
       "      <th>0</th>\n",
       "      <td>0</td>\n",
       "      <td>6.262531</td>\n",
       "    </tr>\n",
       "    <tr>\n",
       "      <th>1</th>\n",
       "      <td>1</td>\n",
       "      <td>37.362860</td>\n",
       "    </tr>\n",
       "    <tr>\n",
       "      <th>2</th>\n",
       "      <td>2</td>\n",
       "      <td>67.924084</td>\n",
       "    </tr>\n",
       "    <tr>\n",
       "      <th>3</th>\n",
       "      <td>3</td>\n",
       "      <td>93.080531</td>\n",
       "    </tr>\n",
       "    <tr>\n",
       "      <th>4</th>\n",
       "      <td>4</td>\n",
       "      <td>22.703812</td>\n",
       "    </tr>\n",
       "  </tbody>\n",
       "</table>\n",
       "</div>"
      ],
      "text/plain": [
       "   Index       2018\n",
       "0      0   6.262531\n",
       "1      1  37.362860\n",
       "2      2  67.924084\n",
       "3      3  93.080531\n",
       "4      4  22.703812"
      ]
     },
     "execution_count": 471,
     "metadata": {},
     "output_type": "execute_result"
    }
   ],
   "source": [
    "true.head()"
   ]
  },
  {
   "cell_type": "code",
   "execution_count": 472,
   "id": "98f2e5c4",
   "metadata": {},
   "outputs": [
    {
     "data": {
      "text/plain": [
       "-2.2737367544323206e-13"
      ]
     },
     "execution_count": 472,
     "metadata": {},
     "output_type": "execute_result"
    }
   ],
   "source": [
    "((true[\"2018\"]  - esth[\"Value\"])).min()"
   ]
  },
  {
   "cell_type": "code",
   "execution_count": 473,
   "id": "dd99b208",
   "metadata": {},
   "outputs": [],
   "source": [
    "for i in range(true.shape[0]):\n",
    "    idx = true.loc[i][\"Index\"]\n",
    "    diff = true.loc[i][\"2018\"] - esth.loc[i][\"Value\"]\n",
    "    if(diff < 0 ):\n",
    "        valarr = df_depot[df_depot[\"Source\"] == idx][\"Value\"].values\n",
    "        maxid = np.argmax(valarr)\n",
    "        valarr[maxid] -= abs(diff+0.00001)\n",
    "        df_depot.loc[df_depot[\"Source\"] == idx, \"Value\"] = valarr"
   ]
  },
  {
   "cell_type": "code",
   "execution_count": 474,
   "id": "32580e96",
   "metadata": {},
   "outputs": [],
   "source": [
    "df_depot.to_csv(\"Cleaned_depot_18.csv\",index = False)"
   ]
  },
  {
   "cell_type": "code",
   "execution_count": null,
   "id": "9c611783",
   "metadata": {},
   "outputs": [],
   "source": []
  },
  {
   "cell_type": "markdown",
   "id": "0e3514aa",
   "metadata": {},
   "source": [
    "# Refineries\n"
   ]
  },
  {
   "cell_type": "code",
   "execution_count": 101,
   "id": "9ac8cb00",
   "metadata": {},
   "outputs": [],
   "source": [
    "df_ref = pd.read_csv(\"19Pellets_supply.csv\")"
   ]
  },
  {
   "cell_type": "code",
   "execution_count": 102,
   "id": "f77b1362",
   "metadata": {},
   "outputs": [
    {
     "name": "stdout",
     "output_type": "stream",
     "text": [
      "<class 'pandas.core.frame.DataFrame'>\n",
      "RangeIndex: 21 entries, 0 to 20\n",
      "Data columns (total 3 columns):\n",
      " #   Column       Non-Null Count  Dtype  \n",
      "---  ------       --------------  -----  \n",
      " 0   Source       21 non-null     int64  \n",
      " 1   Destination  21 non-null     int64  \n",
      " 2   Value        21 non-null     float64\n",
      "dtypes: float64(1), int64(2)\n",
      "memory usage: 632.0 bytes\n"
     ]
    }
   ],
   "source": [
    "df_ref.info()"
   ]
  },
  {
   "cell_type": "code",
   "execution_count": 103,
   "id": "f39acecf",
   "metadata": {},
   "outputs": [],
   "source": [
    "df_ref = df_ref[df_ref['Value'] >= 0.001]"
   ]
  },
  {
   "cell_type": "code",
   "execution_count": 104,
   "id": "1b02bbfb",
   "metadata": {},
   "outputs": [
    {
     "data": {
      "text/html": [
       "<div>\n",
       "<style scoped>\n",
       "    .dataframe tbody tr th:only-of-type {\n",
       "        vertical-align: middle;\n",
       "    }\n",
       "\n",
       "    .dataframe tbody tr th {\n",
       "        vertical-align: top;\n",
       "    }\n",
       "\n",
       "    .dataframe thead th {\n",
       "        text-align: right;\n",
       "    }\n",
       "</style>\n",
       "<table border=\"1\" class=\"dataframe\">\n",
       "  <thead>\n",
       "    <tr style=\"text-align: right;\">\n",
       "      <th></th>\n",
       "      <th>Source</th>\n",
       "      <th>Destination</th>\n",
       "      <th>Value</th>\n",
       "    </tr>\n",
       "  </thead>\n",
       "  <tbody>\n",
       "    <tr>\n",
       "      <th>0</th>\n",
       "      <td>102</td>\n",
       "      <td>83</td>\n",
       "      <td>19999.0</td>\n",
       "    </tr>\n",
       "    <tr>\n",
       "      <th>1</th>\n",
       "      <td>394</td>\n",
       "      <td>83</td>\n",
       "      <td>19999.0</td>\n",
       "    </tr>\n",
       "    <tr>\n",
       "      <th>3</th>\n",
       "      <td>486</td>\n",
       "      <td>83</td>\n",
       "      <td>4.0</td>\n",
       "    </tr>\n",
       "    <tr>\n",
       "      <th>4</th>\n",
       "      <td>486</td>\n",
       "      <td>863</td>\n",
       "      <td>19995.0</td>\n",
       "    </tr>\n",
       "    <tr>\n",
       "      <th>5</th>\n",
       "      <td>985</td>\n",
       "      <td>863</td>\n",
       "      <td>19999.0</td>\n",
       "    </tr>\n",
       "    <tr>\n",
       "      <th>6</th>\n",
       "      <td>1004</td>\n",
       "      <td>83</td>\n",
       "      <td>19999.0</td>\n",
       "    </tr>\n",
       "    <tr>\n",
       "      <th>8</th>\n",
       "      <td>1011</td>\n",
       "      <td>83</td>\n",
       "      <td>19999.0</td>\n",
       "    </tr>\n",
       "    <tr>\n",
       "      <th>9</th>\n",
       "      <td>1203</td>\n",
       "      <td>863</td>\n",
       "      <td>19999.0</td>\n",
       "    </tr>\n",
       "    <tr>\n",
       "      <th>11</th>\n",
       "      <td>1238</td>\n",
       "      <td>83</td>\n",
       "      <td>19950.0</td>\n",
       "    </tr>\n",
       "    <tr>\n",
       "      <th>12</th>\n",
       "      <td>1341</td>\n",
       "      <td>863</td>\n",
       "      <td>19999.0</td>\n",
       "    </tr>\n",
       "    <tr>\n",
       "      <th>14</th>\n",
       "      <td>1390</td>\n",
       "      <td>863</td>\n",
       "      <td>19958.0</td>\n",
       "    </tr>\n",
       "    <tr>\n",
       "      <th>16</th>\n",
       "      <td>1521</td>\n",
       "      <td>1699</td>\n",
       "      <td>19999.0</td>\n",
       "    </tr>\n",
       "    <tr>\n",
       "      <th>17</th>\n",
       "      <td>1743</td>\n",
       "      <td>1699</td>\n",
       "      <td>19999.0</td>\n",
       "    </tr>\n",
       "    <tr>\n",
       "      <th>18</th>\n",
       "      <td>1759</td>\n",
       "      <td>1699</td>\n",
       "      <td>19999.0</td>\n",
       "    </tr>\n",
       "    <tr>\n",
       "      <th>19</th>\n",
       "      <td>1860</td>\n",
       "      <td>1699</td>\n",
       "      <td>19999.0</td>\n",
       "    </tr>\n",
       "    <tr>\n",
       "      <th>20</th>\n",
       "      <td>2133</td>\n",
       "      <td>1699</td>\n",
       "      <td>19954.0</td>\n",
       "    </tr>\n",
       "  </tbody>\n",
       "</table>\n",
       "</div>"
      ],
      "text/plain": [
       "    Source  Destination    Value\n",
       "0      102           83  19999.0\n",
       "1      394           83  19999.0\n",
       "3      486           83      4.0\n",
       "4      486          863  19995.0\n",
       "5      985          863  19999.0\n",
       "6     1004           83  19999.0\n",
       "8     1011           83  19999.0\n",
       "9     1203          863  19999.0\n",
       "11    1238           83  19950.0\n",
       "12    1341          863  19999.0\n",
       "14    1390          863  19958.0\n",
       "16    1521         1699  19999.0\n",
       "17    1743         1699  19999.0\n",
       "18    1759         1699  19999.0\n",
       "19    1860         1699  19999.0\n",
       "20    2133         1699  19954.0"
      ]
     },
     "execution_count": 104,
     "metadata": {},
     "output_type": "execute_result"
    }
   ],
   "source": [
    "df_ref"
   ]
  },
  {
   "cell_type": "code",
   "execution_count": 105,
   "id": "da625e27",
   "metadata": {},
   "outputs": [],
   "source": [
    "df_ref.to_csv(\"Cleaned_refinery_19.csv\",index =False)"
   ]
  },
  {
   "cell_type": "code",
   "execution_count": 106,
   "id": "b6b4f16b",
   "metadata": {},
   "outputs": [
    {
     "data": {
      "text/plain": [
       "True"
      ]
     },
     "execution_count": 106,
     "metadata": {},
     "output_type": "execute_result"
    }
   ],
   "source": [
    "abs(df_ref[\"Value\"].sum() - df_depot[\"Value\"].sum()) <= 0.001"
   ]
  },
  {
   "cell_type": "code",
   "execution_count": 107,
   "id": "f85ab762",
   "metadata": {},
   "outputs": [],
   "source": [
    "rlist = list(set(df_ref[\"Source\"]))"
   ]
  },
  {
   "cell_type": "code",
   "execution_count": 108,
   "id": "2149438a",
   "metadata": {},
   "outputs": [
    {
     "data": {
      "text/plain": [
       "15"
      ]
     },
     "execution_count": 108,
     "metadata": {},
     "output_type": "execute_result"
    }
   ],
   "source": [
    "len(rlist)"
   ]
  },
  {
   "cell_type": "code",
   "execution_count": 45,
   "id": "65bafa45",
   "metadata": {},
   "outputs": [],
   "source": [
    "res = []\n",
    "for i in rlist:\n",
    "    res.append([df_ref[df_ref[\"Source\"] == i][\"Source\"].tolist()[0],df_ref[df_ref[\"Source\"] == i][\"Value\"].sum()])"
   ]
  },
  {
   "cell_type": "code",
   "execution_count": 49,
   "id": "54396f12",
   "metadata": {},
   "outputs": [],
   "source": [
    "estb = pd.DataFrame(np.array(res), columns = [\"Index\", \"Value\"])"
   ]
  },
  {
   "cell_type": "code",
   "execution_count": 50,
   "id": "0cf2276d",
   "metadata": {},
   "outputs": [],
   "source": [
    "blist = list(set(df_depot[\"Destination\"]))"
   ]
  },
  {
   "cell_type": "code",
   "execution_count": 54,
   "id": "9a34f472",
   "metadata": {},
   "outputs": [],
   "source": [
    "res = []\n",
    "for i in blist:\n",
    "    res.append([df_depot[df_depot[\"Destination\"] == i][\"Destination\"].tolist()[0],df_depot[df_depot[\"Destination\"] == i][\"Value\"].sum()])"
   ]
  },
  {
   "cell_type": "code",
   "execution_count": 55,
   "id": "e980f8c8",
   "metadata": {},
   "outputs": [],
   "source": [
    "estb = pd.DataFrame(np.array(res), columns = [\"Index\", \"Value\"])"
   ]
  },
  {
   "cell_type": "code",
   "execution_count": 56,
   "id": "ca4e2e11",
   "metadata": {},
   "outputs": [
    {
     "data": {
      "text/plain": [
       "-3.637978807091713e-12"
      ]
     },
     "execution_count": 56,
     "metadata": {},
     "output_type": "execute_result"
    }
   ],
   "source": [
    "(est.sort_values(by=\"Index\")[\"Value\"] - estb.sort_values(by=\"Index\")[\"Value\"]).min()"
   ]
  },
  {
   "cell_type": "code",
   "execution_count": 510,
   "id": "36b64b83",
   "metadata": {},
   "outputs": [],
   "source": [
    "bio18 = pd.read_csv(\"Cleaned_depot_18.csv\")\n",
    "bio19 = pd.read_csv(\"Cleaned_depot_19.csv\")"
   ]
  },
  {
   "cell_type": "code",
   "execution_count": 511,
   "id": "8bfd1085",
   "metadata": {},
   "outputs": [],
   "source": [
    "ref18 = pd.read_csv(\"Cleaned_refinery_18.csv\")\n",
    "ref19 = pd.read_csv(\"Cleaned_refinery_19.csv\")"
   ]
  },
  {
   "cell_type": "code",
   "execution_count": 512,
   "id": "f19d7845",
   "metadata": {},
   "outputs": [
    {
     "data": {
      "text/html": [
       "<div>\n",
       "<style scoped>\n",
       "    .dataframe tbody tr th:only-of-type {\n",
       "        vertical-align: middle;\n",
       "    }\n",
       "\n",
       "    .dataframe tbody tr th {\n",
       "        vertical-align: top;\n",
       "    }\n",
       "\n",
       "    .dataframe thead th {\n",
       "        text-align: right;\n",
       "    }\n",
       "</style>\n",
       "<table border=\"1\" class=\"dataframe\">\n",
       "  <thead>\n",
       "    <tr style=\"text-align: right;\">\n",
       "      <th></th>\n",
       "      <th>Source</th>\n",
       "      <th>Destination</th>\n",
       "      <th>Value</th>\n",
       "    </tr>\n",
       "  </thead>\n",
       "  <tbody>\n",
       "    <tr>\n",
       "      <th>0</th>\n",
       "      <td>0</td>\n",
       "      <td>102</td>\n",
       "      <td>6.262531</td>\n",
       "    </tr>\n",
       "    <tr>\n",
       "      <th>1</th>\n",
       "      <td>1</td>\n",
       "      <td>102</td>\n",
       "      <td>37.362860</td>\n",
       "    </tr>\n",
       "    <tr>\n",
       "      <th>2</th>\n",
       "      <td>2</td>\n",
       "      <td>102</td>\n",
       "      <td>67.924084</td>\n",
       "    </tr>\n",
       "    <tr>\n",
       "      <th>3</th>\n",
       "      <td>3</td>\n",
       "      <td>102</td>\n",
       "      <td>93.080531</td>\n",
       "    </tr>\n",
       "    <tr>\n",
       "      <th>4</th>\n",
       "      <td>4</td>\n",
       "      <td>102</td>\n",
       "      <td>22.703812</td>\n",
       "    </tr>\n",
       "  </tbody>\n",
       "</table>\n",
       "</div>"
      ],
      "text/plain": [
       "   Source  Destination      Value\n",
       "0       0          102   6.262531\n",
       "1       1          102  37.362860\n",
       "2       2          102  67.924084\n",
       "3       3          102  93.080531\n",
       "4       4          102  22.703812"
      ]
     },
     "execution_count": 512,
     "metadata": {},
     "output_type": "execute_result"
    }
   ],
   "source": [
    "bio18.head()"
   ]
  },
  {
   "cell_type": "code",
   "execution_count": 513,
   "id": "3e9b5dcc",
   "metadata": {},
   "outputs": [],
   "source": [
    "bio18list = list(set(bio18['Destination']))"
   ]
  },
  {
   "cell_type": "code",
   "execution_count": 514,
   "id": "9dab311a",
   "metadata": {},
   "outputs": [
    {
     "data": {
      "text/plain": [
       "15"
      ]
     },
     "execution_count": 514,
     "metadata": {},
     "output_type": "execute_result"
    }
   ],
   "source": [
    "len(bio18list)"
   ]
  },
  {
   "cell_type": "code",
   "execution_count": 515,
   "id": "486b07db",
   "metadata": {},
   "outputs": [],
   "source": [
    "res = []\n",
    "for i in bio18list:\n",
    "    res.append([bio18[bio18[\"Destination\"] == i][\"Destination\"].tolist()[0],bio18[bio18[\"Destination\"] == i][\"Value\"].sum()])"
   ]
  },
  {
   "cell_type": "code",
   "execution_count": 516,
   "id": "91d4c3b3",
   "metadata": {},
   "outputs": [],
   "source": [
    "est18 = pd.DataFrame(np.array(res), columns = [\"Index\", \"Value\"])"
   ]
  },
  {
   "cell_type": "code",
   "execution_count": 517,
   "id": "82d34e4b",
   "metadata": {},
   "outputs": [
    {
     "data": {
      "text/html": [
       "<div>\n",
       "<style scoped>\n",
       "    .dataframe tbody tr th:only-of-type {\n",
       "        vertical-align: middle;\n",
       "    }\n",
       "\n",
       "    .dataframe tbody tr th {\n",
       "        vertical-align: top;\n",
       "    }\n",
       "\n",
       "    .dataframe thead th {\n",
       "        text-align: right;\n",
       "    }\n",
       "</style>\n",
       "<table border=\"1\" class=\"dataframe\">\n",
       "  <thead>\n",
       "    <tr style=\"text-align: right;\">\n",
       "      <th></th>\n",
       "      <th>Index</th>\n",
       "      <th>Value</th>\n",
       "    </tr>\n",
       "  </thead>\n",
       "  <tbody>\n",
       "    <tr>\n",
       "      <th>0</th>\n",
       "      <td>1860.0</td>\n",
       "      <td>19998.99998</td>\n",
       "    </tr>\n",
       "    <tr>\n",
       "      <th>1</th>\n",
       "      <td>102.0</td>\n",
       "      <td>19998.99998</td>\n",
       "    </tr>\n",
       "    <tr>\n",
       "      <th>2</th>\n",
       "      <td>486.0</td>\n",
       "      <td>19998.99999</td>\n",
       "    </tr>\n",
       "    <tr>\n",
       "      <th>3</th>\n",
       "      <td>394.0</td>\n",
       "      <td>19999.00000</td>\n",
       "    </tr>\n",
       "    <tr>\n",
       "      <th>4</th>\n",
       "      <td>1004.0</td>\n",
       "      <td>19999.00000</td>\n",
       "    </tr>\n",
       "    <tr>\n",
       "      <th>5</th>\n",
       "      <td>1390.0</td>\n",
       "      <td>19998.99998</td>\n",
       "    </tr>\n",
       "    <tr>\n",
       "      <th>6</th>\n",
       "      <td>1743.0</td>\n",
       "      <td>19998.99999</td>\n",
       "    </tr>\n",
       "    <tr>\n",
       "      <th>7</th>\n",
       "      <td>1521.0</td>\n",
       "      <td>19999.00000</td>\n",
       "    </tr>\n",
       "    <tr>\n",
       "      <th>8</th>\n",
       "      <td>1011.0</td>\n",
       "      <td>19999.00000</td>\n",
       "    </tr>\n",
       "    <tr>\n",
       "      <th>9</th>\n",
       "      <td>1203.0</td>\n",
       "      <td>19998.99997</td>\n",
       "    </tr>\n",
       "    <tr>\n",
       "      <th>10</th>\n",
       "      <td>2133.0</td>\n",
       "      <td>19998.99999</td>\n",
       "    </tr>\n",
       "    <tr>\n",
       "      <th>11</th>\n",
       "      <td>1238.0</td>\n",
       "      <td>19998.99994</td>\n",
       "    </tr>\n",
       "    <tr>\n",
       "      <th>12</th>\n",
       "      <td>985.0</td>\n",
       "      <td>19998.99999</td>\n",
       "    </tr>\n",
       "    <tr>\n",
       "      <th>13</th>\n",
       "      <td>1341.0</td>\n",
       "      <td>19999.00000</td>\n",
       "    </tr>\n",
       "    <tr>\n",
       "      <th>14</th>\n",
       "      <td>1759.0</td>\n",
       "      <td>19999.00000</td>\n",
       "    </tr>\n",
       "  </tbody>\n",
       "</table>\n",
       "</div>"
      ],
      "text/plain": [
       "     Index        Value\n",
       "0   1860.0  19998.99998\n",
       "1    102.0  19998.99998\n",
       "2    486.0  19998.99999\n",
       "3    394.0  19999.00000\n",
       "4   1004.0  19999.00000\n",
       "5   1390.0  19998.99998\n",
       "6   1743.0  19998.99999\n",
       "7   1521.0  19999.00000\n",
       "8   1011.0  19999.00000\n",
       "9   1203.0  19998.99997\n",
       "10  2133.0  19998.99999\n",
       "11  1238.0  19998.99994\n",
       "12   985.0  19998.99999\n",
       "13  1341.0  19999.00000\n",
       "14  1759.0  19999.00000"
      ]
     },
     "execution_count": 517,
     "metadata": {},
     "output_type": "execute_result"
    }
   ],
   "source": [
    "est18"
   ]
  },
  {
   "cell_type": "code",
   "execution_count": 518,
   "id": "35c2f5f4",
   "metadata": {},
   "outputs": [],
   "source": [
    "ref18list = list(set(ref18['Source']))"
   ]
  },
  {
   "cell_type": "code",
   "execution_count": 519,
   "id": "2d013090",
   "metadata": {},
   "outputs": [
    {
     "data": {
      "text/plain": [
       "[1860,\n",
       " 102,\n",
       " 486,\n",
       " 394,\n",
       " 1004,\n",
       " 1390,\n",
       " 1743,\n",
       " 1521,\n",
       " 1011,\n",
       " 1203,\n",
       " 2133,\n",
       " 1238,\n",
       " 985,\n",
       " 1341,\n",
       " 1759]"
      ]
     },
     "execution_count": 519,
     "metadata": {},
     "output_type": "execute_result"
    }
   ],
   "source": [
    "ref18list"
   ]
  },
  {
   "cell_type": "code",
   "execution_count": 520,
   "id": "39fdef6b",
   "metadata": {},
   "outputs": [],
   "source": [
    "res = []\n",
    "for i in ref18list:\n",
    "    res.append([ref18[ref18[\"Source\"] == i][\"Source\"].tolist()[0],ref18[ref18[\"Source\"] == i][\"Value\"].sum()])"
   ]
  },
  {
   "cell_type": "code",
   "execution_count": 521,
   "id": "26817a6f",
   "metadata": {},
   "outputs": [],
   "source": [
    "true18 = pd.DataFrame(np.array(res), columns = [\"Index\", \"Value\"])"
   ]
  },
  {
   "cell_type": "code",
   "execution_count": 523,
   "id": "765402f0",
   "metadata": {},
   "outputs": [
    {
     "data": {
      "text/html": [
       "<div>\n",
       "<style scoped>\n",
       "    .dataframe tbody tr th:only-of-type {\n",
       "        vertical-align: middle;\n",
       "    }\n",
       "\n",
       "    .dataframe tbody tr th {\n",
       "        vertical-align: top;\n",
       "    }\n",
       "\n",
       "    .dataframe thead th {\n",
       "        text-align: right;\n",
       "    }\n",
       "</style>\n",
       "<table border=\"1\" class=\"dataframe\">\n",
       "  <thead>\n",
       "    <tr style=\"text-align: right;\">\n",
       "      <th></th>\n",
       "      <th>Index</th>\n",
       "      <th>Value</th>\n",
       "    </tr>\n",
       "  </thead>\n",
       "  <tbody>\n",
       "    <tr>\n",
       "      <th>0</th>\n",
       "      <td>1860.0</td>\n",
       "      <td>19999.0</td>\n",
       "    </tr>\n",
       "    <tr>\n",
       "      <th>1</th>\n",
       "      <td>102.0</td>\n",
       "      <td>19999.0</td>\n",
       "    </tr>\n",
       "    <tr>\n",
       "      <th>2</th>\n",
       "      <td>486.0</td>\n",
       "      <td>19999.0</td>\n",
       "    </tr>\n",
       "    <tr>\n",
       "      <th>3</th>\n",
       "      <td>394.0</td>\n",
       "      <td>19999.0</td>\n",
       "    </tr>\n",
       "    <tr>\n",
       "      <th>4</th>\n",
       "      <td>1004.0</td>\n",
       "      <td>19999.0</td>\n",
       "    </tr>\n",
       "    <tr>\n",
       "      <th>5</th>\n",
       "      <td>1390.0</td>\n",
       "      <td>19999.0</td>\n",
       "    </tr>\n",
       "    <tr>\n",
       "      <th>6</th>\n",
       "      <td>1743.0</td>\n",
       "      <td>19999.0</td>\n",
       "    </tr>\n",
       "    <tr>\n",
       "      <th>7</th>\n",
       "      <td>1521.0</td>\n",
       "      <td>19999.0</td>\n",
       "    </tr>\n",
       "    <tr>\n",
       "      <th>8</th>\n",
       "      <td>1011.0</td>\n",
       "      <td>19999.0</td>\n",
       "    </tr>\n",
       "    <tr>\n",
       "      <th>9</th>\n",
       "      <td>1203.0</td>\n",
       "      <td>19999.0</td>\n",
       "    </tr>\n",
       "    <tr>\n",
       "      <th>10</th>\n",
       "      <td>2133.0</td>\n",
       "      <td>19999.0</td>\n",
       "    </tr>\n",
       "    <tr>\n",
       "      <th>11</th>\n",
       "      <td>1238.0</td>\n",
       "      <td>19999.0</td>\n",
       "    </tr>\n",
       "    <tr>\n",
       "      <th>12</th>\n",
       "      <td>985.0</td>\n",
       "      <td>19999.0</td>\n",
       "    </tr>\n",
       "    <tr>\n",
       "      <th>13</th>\n",
       "      <td>1341.0</td>\n",
       "      <td>19999.0</td>\n",
       "    </tr>\n",
       "    <tr>\n",
       "      <th>14</th>\n",
       "      <td>1759.0</td>\n",
       "      <td>19999.0</td>\n",
       "    </tr>\n",
       "  </tbody>\n",
       "</table>\n",
       "</div>"
      ],
      "text/plain": [
       "     Index    Value\n",
       "0   1860.0  19999.0\n",
       "1    102.0  19999.0\n",
       "2    486.0  19999.0\n",
       "3    394.0  19999.0\n",
       "4   1004.0  19999.0\n",
       "5   1390.0  19999.0\n",
       "6   1743.0  19999.0\n",
       "7   1521.0  19999.0\n",
       "8   1011.0  19999.0\n",
       "9   1203.0  19999.0\n",
       "10  2133.0  19999.0\n",
       "11  1238.0  19999.0\n",
       "12   985.0  19999.0\n",
       "13  1341.0  19999.0\n",
       "14  1759.0  19999.0"
      ]
     },
     "execution_count": 523,
     "metadata": {},
     "output_type": "execute_result"
    }
   ],
   "source": [
    "true18"
   ]
  },
  {
   "cell_type": "code",
   "execution_count": 536,
   "id": "628ce345",
   "metadata": {},
   "outputs": [],
   "source": [
    "idx = true18.loc[0][\"Index\"]\n",
    "diff = true18.loc[0][\"Value\"] - est18.loc[0][\"Value\"]"
   ]
  },
  {
   "cell_type": "code",
   "execution_count": 532,
   "id": "bac4604d",
   "metadata": {},
   "outputs": [
    {
     "data": {
      "text/plain": [
       "False"
      ]
     },
     "execution_count": 532,
     "metadata": {},
     "output_type": "execute_result"
    }
   ],
   "source": [
    "diff > 0.1"
   ]
  },
  {
   "cell_type": "code",
   "execution_count": 534,
   "id": "cc52c987",
   "metadata": {},
   "outputs": [
    {
     "data": {
      "text/plain": [
       "19999.0"
      ]
     },
     "execution_count": 534,
     "metadata": {},
     "output_type": "execute_result"
    }
   ],
   "source": [
    "true18.loc[0][\"Value\"]"
   ]
  },
  {
   "cell_type": "code",
   "execution_count": 542,
   "id": "429bd76c",
   "metadata": {},
   "outputs": [
    {
     "data": {
      "text/plain": [
       "19998.99998"
      ]
     },
     "execution_count": 542,
     "metadata": {},
     "output_type": "execute_result"
    }
   ],
   "source": [
    "est18.loc[0][\"Value\"] - round(diff,1)"
   ]
  },
  {
   "cell_type": "code",
   "execution_count": 545,
   "id": "1770732f",
   "metadata": {},
   "outputs": [
    {
     "data": {
      "text/plain": [
       "0.0"
      ]
     },
     "execution_count": 545,
     "metadata": {},
     "output_type": "execute_result"
    }
   ],
   "source": [
    "19999 - 199"
   ]
  },
  {
   "cell_type": "code",
   "execution_count": 506,
   "id": "6e8b3cfe",
   "metadata": {},
   "outputs": [],
   "source": [
    "for i in range(true18.shape[0]):\n",
    "    idx = true18.loc[i][\"Index\"]\n",
    "    diff = true18.loc[i][\"Value\"] - est18.loc[i][\"Value\"]\n",
    "    if(diff > 0.0001 ):\n",
    "        valarr = ref18[ref18[\"Source\"] == idx][\"Value\"].values\n",
    "        maxid = np.argmax(valarr)\n",
    "        valarr[maxid] -= abs(diff)\n",
    "        ref18.loc[ref18[\"Source\"] == idx, \"Value\"] = valarr"
   ]
  },
  {
   "cell_type": "code",
   "execution_count": 507,
   "id": "d707d24e",
   "metadata": {},
   "outputs": [
    {
     "data": {
      "text/html": [
       "<div>\n",
       "<style scoped>\n",
       "    .dataframe tbody tr th:only-of-type {\n",
       "        vertical-align: middle;\n",
       "    }\n",
       "\n",
       "    .dataframe tbody tr th {\n",
       "        vertical-align: top;\n",
       "    }\n",
       "\n",
       "    .dataframe thead th {\n",
       "        text-align: right;\n",
       "    }\n",
       "</style>\n",
       "<table border=\"1\" class=\"dataframe\">\n",
       "  <thead>\n",
       "    <tr style=\"text-align: right;\">\n",
       "      <th></th>\n",
       "      <th>Source</th>\n",
       "      <th>Destination</th>\n",
       "      <th>Value</th>\n",
       "    </tr>\n",
       "  </thead>\n",
       "  <tbody>\n",
       "    <tr>\n",
       "      <th>0</th>\n",
       "      <td>102</td>\n",
       "      <td>83</td>\n",
       "      <td>19999.0</td>\n",
       "    </tr>\n",
       "    <tr>\n",
       "      <th>1</th>\n",
       "      <td>394</td>\n",
       "      <td>83</td>\n",
       "      <td>19999.0</td>\n",
       "    </tr>\n",
       "    <tr>\n",
       "      <th>2</th>\n",
       "      <td>486</td>\n",
       "      <td>863</td>\n",
       "      <td>19999.0</td>\n",
       "    </tr>\n",
       "    <tr>\n",
       "      <th>3</th>\n",
       "      <td>985</td>\n",
       "      <td>863</td>\n",
       "      <td>19999.0</td>\n",
       "    </tr>\n",
       "    <tr>\n",
       "      <th>4</th>\n",
       "      <td>1004</td>\n",
       "      <td>83</td>\n",
       "      <td>19991.0</td>\n",
       "    </tr>\n",
       "    <tr>\n",
       "      <th>5</th>\n",
       "      <td>1004</td>\n",
       "      <td>863</td>\n",
       "      <td>8.0</td>\n",
       "    </tr>\n",
       "    <tr>\n",
       "      <th>6</th>\n",
       "      <td>1011</td>\n",
       "      <td>83</td>\n",
       "      <td>19999.0</td>\n",
       "    </tr>\n",
       "    <tr>\n",
       "      <th>7</th>\n",
       "      <td>1203</td>\n",
       "      <td>863</td>\n",
       "      <td>19999.0</td>\n",
       "    </tr>\n",
       "    <tr>\n",
       "      <th>8</th>\n",
       "      <td>1238</td>\n",
       "      <td>83</td>\n",
       "      <td>19999.0</td>\n",
       "    </tr>\n",
       "    <tr>\n",
       "      <th>9</th>\n",
       "      <td>1341</td>\n",
       "      <td>863</td>\n",
       "      <td>19999.0</td>\n",
       "    </tr>\n",
       "    <tr>\n",
       "      <th>10</th>\n",
       "      <td>1390</td>\n",
       "      <td>863</td>\n",
       "      <td>19995.0</td>\n",
       "    </tr>\n",
       "    <tr>\n",
       "      <th>11</th>\n",
       "      <td>1390</td>\n",
       "      <td>1699</td>\n",
       "      <td>4.0</td>\n",
       "    </tr>\n",
       "    <tr>\n",
       "      <th>12</th>\n",
       "      <td>1521</td>\n",
       "      <td>1699</td>\n",
       "      <td>19999.0</td>\n",
       "    </tr>\n",
       "    <tr>\n",
       "      <th>13</th>\n",
       "      <td>1743</td>\n",
       "      <td>1699</td>\n",
       "      <td>19999.0</td>\n",
       "    </tr>\n",
       "    <tr>\n",
       "      <th>14</th>\n",
       "      <td>1759</td>\n",
       "      <td>1699</td>\n",
       "      <td>19999.0</td>\n",
       "    </tr>\n",
       "    <tr>\n",
       "      <th>15</th>\n",
       "      <td>1860</td>\n",
       "      <td>1699</td>\n",
       "      <td>19999.0</td>\n",
       "    </tr>\n",
       "    <tr>\n",
       "      <th>16</th>\n",
       "      <td>2133</td>\n",
       "      <td>1699</td>\n",
       "      <td>19999.0</td>\n",
       "    </tr>\n",
       "  </tbody>\n",
       "</table>\n",
       "</div>"
      ],
      "text/plain": [
       "    Source  Destination    Value\n",
       "0      102           83  19999.0\n",
       "1      394           83  19999.0\n",
       "2      486          863  19999.0\n",
       "3      985          863  19999.0\n",
       "4     1004           83  19991.0\n",
       "5     1004          863      8.0\n",
       "6     1011           83  19999.0\n",
       "7     1203          863  19999.0\n",
       "8     1238           83  19999.0\n",
       "9     1341          863  19999.0\n",
       "10    1390          863  19995.0\n",
       "11    1390         1699      4.0\n",
       "12    1521         1699  19999.0\n",
       "13    1743         1699  19999.0\n",
       "14    1759         1699  19999.0\n",
       "15    1860         1699  19999.0\n",
       "16    2133         1699  19999.0"
      ]
     },
     "execution_count": 507,
     "metadata": {},
     "output_type": "execute_result"
    }
   ],
   "source": [
    "ref18"
   ]
  },
  {
   "cell_type": "code",
   "execution_count": null,
   "id": "7b1cf30c",
   "metadata": {},
   "outputs": [],
   "source": []
  }
 ],
 "metadata": {
  "kernelspec": {
   "display_name": "Python 3 (ipykernel)",
   "language": "python",
   "name": "python3"
  },
  "language_info": {
   "codemirror_mode": {
    "name": "ipython",
    "version": 3
   },
   "file_extension": ".py",
   "mimetype": "text/x-python",
   "name": "python",
   "nbconvert_exporter": "python",
   "pygments_lexer": "ipython3",
   "version": "3.9.13"
  }
 },
 "nbformat": 4,
 "nbformat_minor": 5
}
