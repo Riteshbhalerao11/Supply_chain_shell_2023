{
 "cells": [
  {
   "cell_type": "code",
   "execution_count": 60,
   "id": "3d8ab989",
   "metadata": {},
   "outputs": [],
   "source": [
    "import pandas as pd\n",
    "import numpy as np\n",
    "import matplotlib.pyplot as plt"
   ]
  },
  {
   "cell_type": "code",
   "execution_count": 61,
   "id": "28628319",
   "metadata": {},
   "outputs": [],
   "source": [
    "df_dist = pd.read_csv(\"D:\\Shell.ai\\dataset\\Distance_Matrix.csv\").iloc[:,1:].values"
   ]
  },
  {
   "cell_type": "code",
   "execution_count": 62,
   "id": "c70efee4",
   "metadata": {},
   "outputs": [
    {
     "data": {
      "text/plain": [
       "array([[  0.    ,  11.3769,  20.4557, ..., 665.9655, 673.2073, 681.4235],\n",
       "       [ 11.3769,   0.    ,   9.0788, ..., 663.7178, 670.9596, 679.1758],\n",
       "       [ 20.4557,   9.0788,   0.    , ..., 664.3206, 671.5623, 679.7786],\n",
       "       ...,\n",
       "       [663.7748, 661.5271, 662.1298, ...,   0.    ,  14.2423,  22.4586],\n",
       "       [671.0165, 668.7688, 669.3715, ...,  14.2423,   0.    ,  12.4741],\n",
       "       [679.2328, 676.9851, 677.5878, ...,  22.4586,  12.4741,   0.    ]])"
      ]
     },
     "execution_count": 62,
     "metadata": {},
     "output_type": "execute_result"
    }
   ],
   "source": [
    "df_dist"
   ]
  },
  {
   "cell_type": "code",
   "execution_count": 143,
   "id": "15db09a9",
   "metadata": {},
   "outputs": [],
   "source": [
    "df_biomass = pd.read_csv(\"D:\\Shell.ai\\Forecast_data_2019\\Forecasts\\pred_2019.csv\")[\"Min1819\"].values"
   ]
  },
  {
   "cell_type": "code",
   "execution_count": 144,
   "id": "469889fc",
   "metadata": {},
   "outputs": [],
   "source": [
    "df_biomass = df_biomass.reshape(-1,1)"
   ]
  },
  {
   "cell_type": "code",
   "execution_count": 145,
   "id": "7f9863ae",
   "metadata": {},
   "outputs": [],
   "source": [
    "cost = df_dist * df_biomass"
   ]
  },
  {
   "cell_type": "code",
   "execution_count": 146,
   "id": "a5e9c96d",
   "metadata": {},
   "outputs": [
    {
     "data": {
      "text/plain": [
       "(2418, 2418)"
      ]
     },
     "execution_count": 146,
     "metadata": {},
     "output_type": "execute_result"
    }
   ],
   "source": [
    "cost.shape"
   ]
  },
  {
   "cell_type": "code",
   "execution_count": 67,
   "id": "4739c495",
   "metadata": {},
   "outputs": [],
   "source": [
    "from sklearn.preprocessing import MinMaxScaler"
   ]
  },
  {
   "cell_type": "code",
   "execution_count": 68,
   "id": "3231e114",
   "metadata": {},
   "outputs": [],
   "source": [
    "scaler = MinMaxScaler()\n",
    "\n",
    "# Fit the scaler to the matrix and then transform the matrix\n",
    "cost = scaler.fit_transform(cost)"
   ]
  },
  {
   "cell_type": "code",
   "execution_count": 69,
   "id": "596ce991",
   "metadata": {},
   "outputs": [
    {
     "data": {
      "text/plain": [
       "(2418, 2418)"
      ]
     },
     "execution_count": 69,
     "metadata": {},
     "output_type": "execute_result"
    }
   ],
   "source": [
    "cost.shape"
   ]
  },
  {
   "cell_type": "code",
   "execution_count": 70,
   "id": "0ebc17b2",
   "metadata": {},
   "outputs": [],
   "source": [
    "from sklearn.cluster import AgglomerativeClustering"
   ]
  },
  {
   "cell_type": "code",
   "execution_count": 112,
   "id": "7529a9aa",
   "metadata": {},
   "outputs": [],
   "source": [
    "num_clusters = 15"
   ]
  },
  {
   "cell_type": "code",
   "execution_count": 113,
   "id": "6f23c4e6",
   "metadata": {},
   "outputs": [],
   "source": [
    "clustering = AgglomerativeClustering(n_clusters=num_clusters, metric='precomputed',linkage='average')\n",
    "cluster_labels = clustering.fit_predict(cost)"
   ]
  },
  {
   "cell_type": "code",
   "execution_count": 114,
   "id": "ca174b87",
   "metadata": {},
   "outputs": [],
   "source": [
    "c0 = []\n",
    "i0 = []\n",
    "c1 = []\n",
    "it = []\n",
    "c2 = []\n",
    "i2 = []\n",
    "c3 = []\n",
    "i3 = []\n",
    "for i in range(2418):\n",
    "    if(cluster_labels[i] == 0):\n",
    "        c0.append(df_biomass[i])\n",
    "        i0.append(i)\n",
    "    if(cluster_labels[i] == 1):\n",
    "        c1.append(df_biomass[i])\n",
    "        it.append(i)\n",
    "    if(cluster_labels[i] == 2):\n",
    "        c2.append(df_biomass[i])\n",
    "        i2.append(i)\n",
    "    if(cluster_labels[i] == 3):\n",
    "        c3.append(df_biomass[i])\n",
    "        i3.append(i)"
   ]
  },
  {
   "cell_type": "code",
   "execution_count": 121,
   "id": "ada3931c",
   "metadata": {},
   "outputs": [
    {
     "data": {
      "text/plain": [
       "40"
      ]
     },
     "execution_count": 121,
     "metadata": {},
     "output_type": "execute_result"
    }
   ],
   "source": [
    "cluster_labels.tolist().count()"
   ]
  },
  {
   "cell_type": "code",
   "execution_count": 86,
   "id": "6a0d9bbd",
   "metadata": {},
   "outputs": [
    {
     "data": {
      "text/plain": [
       "678"
      ]
     },
     "execution_count": 86,
     "metadata": {},
     "output_type": "execute_result"
    }
   ],
   "source": [
    "len(c0)"
   ]
  },
  {
   "cell_type": "code",
   "execution_count": 87,
   "id": "a2048202",
   "metadata": {},
   "outputs": [
    {
     "data": {
      "text/plain": [
       "2"
      ]
     },
     "execution_count": 87,
     "metadata": {},
     "output_type": "execute_result"
    }
   ],
   "source": [
    "len(c1)"
   ]
  },
  {
   "cell_type": "code",
   "execution_count": 88,
   "id": "7e42fafe",
   "metadata": {},
   "outputs": [
    {
     "data": {
      "text/plain": [
       "550"
      ]
     },
     "execution_count": 88,
     "metadata": {},
     "output_type": "execute_result"
    }
   ],
   "source": [
    "len(c2)"
   ]
  },
  {
   "cell_type": "code",
   "execution_count": 89,
   "id": "5af8f81c",
   "metadata": {},
   "outputs": [
    {
     "data": {
      "text/plain": [
       "75"
      ]
     },
     "execution_count": 89,
     "metadata": {},
     "output_type": "execute_result"
    }
   ],
   "source": [
    "len(c3)"
   ]
  },
  {
   "cell_type": "code",
   "execution_count": 78,
   "id": "6791a093",
   "metadata": {},
   "outputs": [
    {
     "data": {
      "text/plain": [
       "11217.587529566797"
      ]
     },
     "execution_count": 78,
     "metadata": {},
     "output_type": "execute_result"
    }
   ],
   "source": [
    "np.array(c0).sum() "
   ]
  },
  {
   "cell_type": "code",
   "execution_count": 79,
   "id": "61d5b0de",
   "metadata": {},
   "outputs": [
    {
     "data": {
      "text/plain": [
       "157838.28274555004"
      ]
     },
     "execution_count": 79,
     "metadata": {},
     "output_type": "execute_result"
    }
   ],
   "source": [
    "np.array(c1).sum() "
   ]
  },
  {
   "cell_type": "code",
   "execution_count": 80,
   "id": "0a6ec3ac",
   "metadata": {},
   "outputs": [
    {
     "data": {
      "text/plain": [
       "159243.59860583133"
      ]
     },
     "execution_count": 80,
     "metadata": {},
     "output_type": "execute_result"
    }
   ],
   "source": [
    "np.array(c2).sum() "
   ]
  },
  {
   "cell_type": "code",
   "execution_count": 81,
   "id": "3e2ce83d",
   "metadata": {},
   "outputs": [
    {
     "data": {
      "text/plain": [
       "16300.492717496923"
      ]
     },
     "execution_count": 81,
     "metadata": {},
     "output_type": "execute_result"
    }
   ],
   "source": [
    "np.array(c3).sum() "
   ]
  },
  {
   "cell_type": "code",
   "execution_count": 82,
   "id": "5e87fa42",
   "metadata": {},
   "outputs": [
    {
     "data": {
      "text/plain": [
       "344599.9615984451"
      ]
     },
     "execution_count": 82,
     "metadata": {},
     "output_type": "execute_result"
    }
   ],
   "source": [
    "np.array(c0 + c1 + c2 +c3).sum()"
   ]
  },
  {
   "cell_type": "code",
   "execution_count": 30,
   "id": "c314ea5e",
   "metadata": {},
   "outputs": [],
   "source": [
    "new_biomass = []\n",
    "for i in it:\n",
    "    new_biomass.append(df_biomass[i])"
   ]
  },
  {
   "cell_type": "code",
   "execution_count": 31,
   "id": "5c7af039",
   "metadata": {},
   "outputs": [],
   "source": [
    "new_biomass = np.array(new_biomass)"
   ]
  },
  {
   "cell_type": "code",
   "execution_count": 32,
   "id": "033ef9fb",
   "metadata": {},
   "outputs": [],
   "source": [
    "itn = i0 + i2 + i3"
   ]
  },
  {
   "cell_type": "code",
   "execution_count": 33,
   "id": "ee79a16b",
   "metadata": {},
   "outputs": [],
   "source": [
    "new_dist = np.delete(cost,itn,axis = 1)\n",
    "new_dist = np.delete(new_dist,itn,axis = 0)"
   ]
  },
  {
   "cell_type": "code",
   "execution_count": 34,
   "id": "c3e47a88",
   "metadata": {},
   "outputs": [
    {
     "data": {
      "text/plain": [
       "(1206, 1206)"
      ]
     },
     "execution_count": 34,
     "metadata": {},
     "output_type": "execute_result"
    }
   ],
   "source": [
    "new_dist.shape"
   ]
  },
  {
   "cell_type": "code",
   "execution_count": 35,
   "id": "1975aba9",
   "metadata": {},
   "outputs": [],
   "source": [
    "clustering = AgglomerativeClustering(n_clusters= 2, metric='precomputed',linkage='complete')\n",
    "cluster_labels = clustering.fit_predict(new_dist)"
   ]
  },
  {
   "cell_type": "code",
   "execution_count": 36,
   "id": "e62a27ed",
   "metadata": {},
   "outputs": [
    {
     "data": {
      "text/plain": [
       "1206"
      ]
     },
     "execution_count": 36,
     "metadata": {},
     "output_type": "execute_result"
    }
   ],
   "source": [
    "len(it)"
   ]
  },
  {
   "cell_type": "code",
   "execution_count": 37,
   "id": "57819be0",
   "metadata": {},
   "outputs": [
    {
     "data": {
      "text/plain": [
       "1206"
      ]
     },
     "execution_count": 37,
     "metadata": {},
     "output_type": "execute_result"
    }
   ],
   "source": [
    "len(cluster_labels)"
   ]
  },
  {
   "cell_type": "code",
   "execution_count": 38,
   "id": "1668c889",
   "metadata": {},
   "outputs": [
    {
     "data": {
      "text/plain": [
       "1206"
      ]
     },
     "execution_count": 38,
     "metadata": {},
     "output_type": "execute_result"
    }
   ],
   "source": [
    "len(new_biomass)"
   ]
  },
  {
   "cell_type": "code",
   "execution_count": 39,
   "id": "c9aa002b",
   "metadata": {},
   "outputs": [],
   "source": [
    "i1 = []\n",
    "i4 = []\n",
    "c1_1 = []\n",
    "for i in range(len(cluster_labels)):\n",
    "    if(cluster_labels[i] == 0):\n",
    "        i1.append(it[i])\n",
    "    else : \n",
    "        i4.append(it[i])\n",
    "        c1_1.append(new_biomass[i])"
   ]
  },
  {
   "cell_type": "code",
   "execution_count": 40,
   "id": "8520fe69",
   "metadata": {},
   "outputs": [
    {
     "data": {
      "text/plain": [
       "906"
      ]
     },
     "execution_count": 40,
     "metadata": {},
     "output_type": "execute_result"
    }
   ],
   "source": [
    "len(i1)"
   ]
  },
  {
   "cell_type": "code",
   "execution_count": 41,
   "id": "84711613",
   "metadata": {},
   "outputs": [
    {
     "data": {
      "text/plain": [
       "300"
      ]
     },
     "execution_count": 41,
     "metadata": {},
     "output_type": "execute_result"
    }
   ],
   "source": [
    "len(i4)"
   ]
  },
  {
   "cell_type": "code",
   "execution_count": 42,
   "id": "05cac437",
   "metadata": {},
   "outputs": [
    {
     "data": {
      "text/plain": [
       "37138.95482491549"
      ]
     },
     "execution_count": 42,
     "metadata": {},
     "output_type": "execute_result"
    }
   ],
   "source": [
    "np.array(c1_1).sum()"
   ]
  },
  {
   "cell_type": "code",
   "execution_count": 43,
   "id": "fe1785bb",
   "metadata": {},
   "outputs": [],
   "source": [
    "itn = i0 + i2 + i3 + i4"
   ]
  },
  {
   "cell_type": "code",
   "execution_count": 44,
   "id": "1fcbb3be",
   "metadata": {},
   "outputs": [
    {
     "data": {
      "text/plain": [
       "1512"
      ]
     },
     "execution_count": 44,
     "metadata": {},
     "output_type": "execute_result"
    }
   ],
   "source": [
    "len(itn)"
   ]
  },
  {
   "cell_type": "code",
   "execution_count": 45,
   "id": "74535188",
   "metadata": {},
   "outputs": [],
   "source": [
    "new_dist = np.delete(cost,itn,axis = 1)\n",
    "new_dist = np.delete(new_dist,itn,axis = 0)"
   ]
  },
  {
   "cell_type": "code",
   "execution_count": 46,
   "id": "239ad904",
   "metadata": {},
   "outputs": [],
   "source": [
    "new_biomass = []\n",
    "for i in i1:\n",
    "    new_biomass.append(df_biomass[i])"
   ]
  },
  {
   "cell_type": "code",
   "execution_count": 47,
   "id": "2a939a26",
   "metadata": {},
   "outputs": [
    {
     "data": {
      "text/plain": [
       "(906, 906)"
      ]
     },
     "execution_count": 47,
     "metadata": {},
     "output_type": "execute_result"
    }
   ],
   "source": [
    "new_dist.shape"
   ]
  },
  {
   "cell_type": "code",
   "execution_count": 48,
   "id": "879681e3",
   "metadata": {},
   "outputs": [],
   "source": [
    "clustering = AgglomerativeClustering(n_clusters= 2, metric='precomputed',linkage='complete')\n",
    "cluster_labels = clustering.fit_predict(new_dist)"
   ]
  },
  {
   "cell_type": "code",
   "execution_count": 49,
   "id": "c8fe449e",
   "metadata": {},
   "outputs": [],
   "source": [
    "i5 = []\n",
    "i6 = []\n",
    "c1_2 = []\n",
    "c1_3 = []\n",
    "for i in range(len(cluster_labels)):\n",
    "    if(cluster_labels[i] == 0):\n",
    "        i5.append(i1[i])\n",
    "        c1_2.append(new_biomass[i])\n",
    "    else : \n",
    "        i6.append(i1[i])\n",
    "        c1_3.append(new_biomass[i])"
   ]
  },
  {
   "cell_type": "code",
   "execution_count": 150,
   "id": "a2ce00bb",
   "metadata": {},
   "outputs": [
    {
     "data": {
      "text/plain": [
       "495"
      ]
     },
     "execution_count": 150,
     "metadata": {},
     "output_type": "execute_result"
    }
   ],
   "source": [
    "len(i5)"
   ]
  },
  {
   "cell_type": "code",
   "execution_count": 51,
   "id": "b993b10c",
   "metadata": {},
   "outputs": [
    {
     "data": {
      "text/plain": [
       "411"
      ]
     },
     "execution_count": 51,
     "metadata": {},
     "output_type": "execute_result"
    }
   ],
   "source": [
    "len(i6)"
   ]
  },
  {
   "cell_type": "code",
   "execution_count": 52,
   "id": "18f0654e",
   "metadata": {},
   "outputs": [
    {
     "data": {
      "text/plain": [
       "66763.71858543056"
      ]
     },
     "execution_count": 52,
     "metadata": {},
     "output_type": "execute_result"
    }
   ],
   "source": [
    "np.array(c1_2).sum()"
   ]
  },
  {
   "cell_type": "code",
   "execution_count": 53,
   "id": "3f4bc866",
   "metadata": {},
   "outputs": [
    {
     "data": {
      "text/plain": [
       "59853.67562480469"
      ]
     },
     "execution_count": 53,
     "metadata": {},
     "output_type": "execute_result"
    }
   ],
   "source": [
    "np.array(c1_3).sum()"
   ]
  },
  {
   "cell_type": "code",
   "execution_count": 27,
   "id": "f671dd65",
   "metadata": {},
   "outputs": [],
   "source": [
    "pd.concat([pd.DataFrame(c0,columns = [\"Biomass\"]), pd.DataFrame(i0 , columns = [\"Index\"])], axis = 1).to_csv(\"Cluster_1.csv\",index = False)"
   ]
  },
  {
   "cell_type": "code",
   "execution_count": 28,
   "id": "8346024d",
   "metadata": {},
   "outputs": [],
   "source": [
    "pd.concat([pd.DataFrame(c2,columns = [\"Biomass\"]), pd.DataFrame(i2 , columns = [\"Index\"])], axis = 1).to_csv(\"Cluster_2.csv\",index = False)"
   ]
  },
  {
   "cell_type": "code",
   "execution_count": 29,
   "id": "72b93d67",
   "metadata": {},
   "outputs": [],
   "source": [
    "pd.concat([pd.DataFrame(c3,columns = [\"Biomass\"]), pd.DataFrame(i3 , columns = [\"Index\"])], axis = 1).to_csv(\"Cluster_3.csv\",index = False)"
   ]
  },
  {
   "cell_type": "code",
   "execution_count": 56,
   "id": "190654aa",
   "metadata": {},
   "outputs": [],
   "source": [
    "pd.concat([pd.DataFrame(c1_1,columns = [\"Biomass\"]), pd.DataFrame(i4 , columns = [\"Index\"])], axis = 1).to_csv(\"Cluster_4.csv\",index =False)"
   ]
  },
  {
   "cell_type": "code",
   "execution_count": 57,
   "id": "604f885f",
   "metadata": {},
   "outputs": [],
   "source": [
    "pd.concat([pd.DataFrame(c1_2,columns = [\"Biomass\"]), pd.DataFrame(i5 , columns = [\"Index\"])], axis = 1).to_csv(\"Cluster_5.csv\",index = False)"
   ]
  },
  {
   "cell_type": "code",
   "execution_count": 59,
   "id": "b703713b",
   "metadata": {},
   "outputs": [],
   "source": [
    "pd.concat([pd.DataFrame(c1_3,columns = [\"Biomass\"]), pd.DataFrame(i6 , columns = [\"Index\"])], axis = 1).to_csv(\"Cluster_6.csv\",index =False)"
   ]
  },
  {
   "cell_type": "code",
   "execution_count": 124,
   "id": "ce0d421f",
   "metadata": {},
   "outputs": [],
   "source": [
    "pd.DataFrame(cost).to_csv(\"Cost_matrix.csv\",index = False)"
   ]
  },
  {
   "cell_type": "code",
   "execution_count": 153,
   "id": "e7c3785d",
   "metadata": {},
   "outputs": [],
   "source": [
    "itn = i0 + i2 + i3 + i4 + i6 + i5"
   ]
  },
  {
   "cell_type": "code",
   "execution_count": 154,
   "id": "38d0ab30",
   "metadata": {},
   "outputs": [
    {
     "data": {
      "text/plain": [
       "1952"
      ]
     },
     "execution_count": 154,
     "metadata": {},
     "output_type": "execute_result"
    }
   ],
   "source": [
    "len(itn)"
   ]
  },
  {
   "cell_type": "code",
   "execution_count": 139,
   "id": "1e7f1ae0",
   "metadata": {},
   "outputs": [],
   "source": [
    "new_dist = np.delete(cost,itn,axis = 1)\n",
    "new_dist = np.delete(new_dist,itn,axis = 0)"
   ]
  },
  {
   "cell_type": "code",
   "execution_count": 140,
   "id": "b87f20a4",
   "metadata": {},
   "outputs": [],
   "source": [
    "new_biomass = []\n",
    "for i in i5:\n",
    "    new_biomass.append(df_biomass[i])"
   ]
  },
  {
   "cell_type": "code",
   "execution_count": 141,
   "id": "d6e92327",
   "metadata": {},
   "outputs": [
    {
     "data": {
      "text/plain": [
       "(1332, 1332)"
      ]
     },
     "execution_count": 141,
     "metadata": {},
     "output_type": "execute_result"
    }
   ],
   "source": [
    "new_dist.shape"
   ]
  },
  {
   "cell_type": "code",
   "execution_count": null,
   "id": "ac7fb70b",
   "metadata": {},
   "outputs": [],
   "source": []
  }
 ],
 "metadata": {
  "kernelspec": {
   "display_name": "Python 3 (ipykernel)",
   "language": "python",
   "name": "python3"
  },
  "language_info": {
   "codemirror_mode": {
    "name": "ipython",
    "version": 3
   },
   "file_extension": ".py",
   "mimetype": "text/x-python",
   "name": "python",
   "nbconvert_exporter": "python",
   "pygments_lexer": "ipython3",
   "version": "3.9.13"
  }
 },
 "nbformat": 4,
 "nbformat_minor": 5
}
